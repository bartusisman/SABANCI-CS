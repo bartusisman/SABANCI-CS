{
  "nbformat": 4,
  "nbformat_minor": 0,
  "metadata": {
    "colab": {
      "provenance": [],
      "toc_visible": true
    },
    "kernelspec": {
      "name": "python3",
      "display_name": "Python 3"
    },
    "widgets": {
      "application/vnd.jupyter.widget-state+json": {
        "5527e99d6a6049d3a5c9441285a1e351": {
          "model_module": "@jupyter-widgets/controls",
          "model_name": "VBoxModel",
          "model_module_version": "1.5.0",
          "state": {
            "_dom_classes": [
              "widget-interact"
            ],
            "_model_module": "@jupyter-widgets/controls",
            "_model_module_version": "1.5.0",
            "_model_name": "VBoxModel",
            "_view_count": null,
            "_view_module": "@jupyter-widgets/controls",
            "_view_module_version": "1.5.0",
            "_view_name": "VBoxView",
            "box_style": "",
            "children": [
              "IPY_MODEL_0190fa0795f8430abdae04ad52781060",
              "IPY_MODEL_985a4e28ed67405e97f66e90b4e76dc7"
            ],
            "layout": "IPY_MODEL_d8690ae1054a4e2bb9b59649381a5e8f"
          }
        },
        "0190fa0795f8430abdae04ad52781060": {
          "model_module": "@jupyter-widgets/controls",
          "model_name": "IntSliderModel",
          "model_module_version": "1.5.0",
          "state": {
            "_dom_classes": [],
            "_model_module": "@jupyter-widgets/controls",
            "_model_module_version": "1.5.0",
            "_model_name": "IntSliderModel",
            "_view_count": null,
            "_view_module": "@jupyter-widgets/controls",
            "_view_module_version": "1.5.0",
            "_view_name": "IntSliderView",
            "continuous_update": true,
            "description": "k",
            "description_tooltip": null,
            "disabled": false,
            "layout": "IPY_MODEL_23e76de485ab4a07ad5c392776615ce4",
            "max": 10,
            "min": 1,
            "orientation": "horizontal",
            "readout": true,
            "readout_format": "d",
            "step": 1,
            "style": "IPY_MODEL_f4dc9dc685b242cbbe213df8b4bc4c3a",
            "value": 5
          }
        },
        "985a4e28ed67405e97f66e90b4e76dc7": {
          "model_module": "@jupyter-widgets/output",
          "model_name": "OutputModel",
          "model_module_version": "1.0.0",
          "state": {
            "_dom_classes": [],
            "_model_module": "@jupyter-widgets/output",
            "_model_module_version": "1.0.0",
            "_model_name": "OutputModel",
            "_view_count": null,
            "_view_module": "@jupyter-widgets/output",
            "_view_module_version": "1.0.0",
            "_view_name": "OutputView",
            "layout": "IPY_MODEL_01b1c93910e14c4a8bb51017d5cb07a7",
            "msg_id": "",
            "outputs": [
              {
                "output_type": "display_data",
                "data": {
                  "text/plain": "<Figure size 640x480 with 1 Axes>",
                  "image/png": "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\n"
                },
                "metadata": {}
              }
            ]
          }
        },
        "d8690ae1054a4e2bb9b59649381a5e8f": {
          "model_module": "@jupyter-widgets/base",
          "model_name": "LayoutModel",
          "model_module_version": "1.2.0",
          "state": {
            "_model_module": "@jupyter-widgets/base",
            "_model_module_version": "1.2.0",
            "_model_name": "LayoutModel",
            "_view_count": null,
            "_view_module": "@jupyter-widgets/base",
            "_view_module_version": "1.2.0",
            "_view_name": "LayoutView",
            "align_content": null,
            "align_items": null,
            "align_self": null,
            "border": null,
            "bottom": null,
            "display": null,
            "flex": null,
            "flex_flow": null,
            "grid_area": null,
            "grid_auto_columns": null,
            "grid_auto_flow": null,
            "grid_auto_rows": null,
            "grid_column": null,
            "grid_gap": null,
            "grid_row": null,
            "grid_template_areas": null,
            "grid_template_columns": null,
            "grid_template_rows": null,
            "height": null,
            "justify_content": null,
            "justify_items": null,
            "left": null,
            "margin": null,
            "max_height": null,
            "max_width": null,
            "min_height": null,
            "min_width": null,
            "object_fit": null,
            "object_position": null,
            "order": null,
            "overflow": null,
            "overflow_x": null,
            "overflow_y": null,
            "padding": null,
            "right": null,
            "top": null,
            "visibility": null,
            "width": null
          }
        },
        "23e76de485ab4a07ad5c392776615ce4": {
          "model_module": "@jupyter-widgets/base",
          "model_name": "LayoutModel",
          "model_module_version": "1.2.0",
          "state": {
            "_model_module": "@jupyter-widgets/base",
            "_model_module_version": "1.2.0",
            "_model_name": "LayoutModel",
            "_view_count": null,
            "_view_module": "@jupyter-widgets/base",
            "_view_module_version": "1.2.0",
            "_view_name": "LayoutView",
            "align_content": null,
            "align_items": null,
            "align_self": null,
            "border": null,
            "bottom": null,
            "display": null,
            "flex": null,
            "flex_flow": null,
            "grid_area": null,
            "grid_auto_columns": null,
            "grid_auto_flow": null,
            "grid_auto_rows": null,
            "grid_column": null,
            "grid_gap": null,
            "grid_row": null,
            "grid_template_areas": null,
            "grid_template_columns": null,
            "grid_template_rows": null,
            "height": null,
            "justify_content": null,
            "justify_items": null,
            "left": null,
            "margin": null,
            "max_height": null,
            "max_width": null,
            "min_height": null,
            "min_width": null,
            "object_fit": null,
            "object_position": null,
            "order": null,
            "overflow": null,
            "overflow_x": null,
            "overflow_y": null,
            "padding": null,
            "right": null,
            "top": null,
            "visibility": null,
            "width": null
          }
        },
        "f4dc9dc685b242cbbe213df8b4bc4c3a": {
          "model_module": "@jupyter-widgets/controls",
          "model_name": "SliderStyleModel",
          "model_module_version": "1.5.0",
          "state": {
            "_model_module": "@jupyter-widgets/controls",
            "_model_module_version": "1.5.0",
            "_model_name": "SliderStyleModel",
            "_view_count": null,
            "_view_module": "@jupyter-widgets/base",
            "_view_module_version": "1.2.0",
            "_view_name": "StyleView",
            "description_width": "",
            "handle_color": null
          }
        },
        "01b1c93910e14c4a8bb51017d5cb07a7": {
          "model_module": "@jupyter-widgets/base",
          "model_name": "LayoutModel",
          "model_module_version": "1.2.0",
          "state": {
            "_model_module": "@jupyter-widgets/base",
            "_model_module_version": "1.2.0",
            "_model_name": "LayoutModel",
            "_view_count": null,
            "_view_module": "@jupyter-widgets/base",
            "_view_module_version": "1.2.0",
            "_view_name": "LayoutView",
            "align_content": null,
            "align_items": null,
            "align_self": null,
            "border": null,
            "bottom": null,
            "display": null,
            "flex": null,
            "flex_flow": null,
            "grid_area": null,
            "grid_auto_columns": null,
            "grid_auto_flow": null,
            "grid_auto_rows": null,
            "grid_column": null,
            "grid_gap": null,
            "grid_row": null,
            "grid_template_areas": null,
            "grid_template_columns": null,
            "grid_template_rows": null,
            "height": null,
            "justify_content": null,
            "justify_items": null,
            "left": null,
            "margin": null,
            "max_height": null,
            "max_width": null,
            "min_height": null,
            "min_width": null,
            "object_fit": null,
            "object_position": null,
            "order": null,
            "overflow": null,
            "overflow_x": null,
            "overflow_y": null,
            "padding": null,
            "right": null,
            "top": null,
            "visibility": null,
            "width": null
          }
        }
      }
    }
  },
  "cells": [
    {
      "cell_type": "markdown",
      "metadata": {
        "id": "tWcIIN2zO_qz"
      },
      "source": [
        "# Introduction to Machine Learning\n",
        "\n",
        "This week, we'll begin working with machine learning. First, we are going to talk about the objective of machine learning and then discuss the involved terminology. To this end, we'll utilize one of the simplest algorithms in the field, named *kNN* to serve as an example.\n",
        "\n",
        "<image width=\"500\" height=\"300\" src=\"https://i.imgur.com/vn9NUkD.png\"></image>\n",
        "\n",
        "In addition, we'll also be talking about [sklearn](https://scikit-learn.org/stable/), a Python library specialized for machine learning."
      ]
    },
    {
      "cell_type": "markdown",
      "metadata": {
        "id": "Ggl_5H4kUC0b"
      },
      "source": [
        "## What is Machine Learning?\n",
        "\n",
        "> **A set of methods that can automatically detect patterns in data,  and then use the uncovered patterns to predict future data, or to perform other kinds of decision making under uncertainty**.\n",
        "*Murphy K.P. Machine Learning A Probabilistic Perspective.*\n",
        "\n",
        "Typically, our goal is to use the data to develop models that we can use to predict various outcomes for new data, such as:\n",
        "\n",
        "- Predicting whether an email message is spam or not\n",
        "\n",
        "- Predicting whether a credit card transaction is fraudulent\n",
        "\n",
        "- Predicting which advertisement a shopper is most likely to click on\n",
        "\n"
      ]
    },
    {
      "cell_type": "markdown",
      "metadata": {
        "id": "Y3vffCDbTgQx"
      },
      "source": [
        "## Key Terms\n",
        "\n",
        "- **Instance (Observation)**: The thing about which you want to make a prediction.\n",
        "\n",
        "- **Example**: An instance (with its features) and a label.\n",
        "\n",
        "- **Label**: A label is the thing we're predicting.\n",
        "\n",
        "- **Feature**: A feature is an input variable. A simple machine learning project might use a single feature, while a more sophisticated machine learning project could use millions of features. Features are the inputs to be fed to the models.\n",
        "\n",
        "- **Model**: A statistical representation of a prediction task. You train a model on examples then use the model to make predictions.\n",
        "\n",
        "Obtained from [[Google Guidelines](https://developers.google.com/machine-learning/guides/rules-of-ml/)]"
      ]
    },
    {
      "cell_type": "markdown",
      "metadata": {
        "id": "HORu1x9nVaVB"
      },
      "source": [
        "## Supervised vs Unsupervised\n",
        "\n",
        "Within the field of machine learning, there are two main types of tasks: **supervised**, and **unsupervised**. The main difference between the two types is that supervised learning is performed by utilizing the ground truth, or in other words, we have prior knowledge of what the output values for our samples should be. Therefore, **the goal of supervised learning is to learn a function, given a set of observations and associated outputs, that best approximates the relationship, mapping between them**.\n",
        "\n",
        "Unsupervised learning, on the other hand, does not have labeled data, so **its goal is to infer the natural structure present within a set of data points**."
      ]
    },
    {
      "cell_type": "markdown",
      "metadata": {
        "id": "qVYY2TnFVpbv"
      },
      "source": [
        "## Supervised Learning\n",
        "\n",
        "Supervised learning is typically done in the context of classification, when we want to map input to output labels, or regression, when we want to map inputs to a continuous output.\n",
        "\n",
        "- Classification models:\n",
        "\n",
        "\n",
        "\n",
        "What classification models aim to achieve can be summarized above. It is the task of approximating a mapping function (f) from input variables (X) to discrete output variables (y). The output variables are often called labels or categories. The mapping function predicts the class or category for a given observation.\n",
        "- Regression models:\n",
        "\n",
        "\n",
        "\n",
        "It is the task of approximating a mapping function (f) from input variables (X) to a **continuous output variable (y).** A continuous output variable is a real-value, such as an integer or floating point value. These are often quantities, such as amounts and sizes."
      ]
    },
    {
      "cell_type": "markdown",
      "metadata": {
        "id": "tR_JXPmwddlY"
      },
      "source": [
        "## k-Nearest Neighbors\n",
        "\n",
        "kNN is a simple, yet a powerful machine learning algorithm. The main idea behind kNN is to check the surroundings of the given instance. It's a supervised algorithm and can be used in both classification and regression. It simply calculates the distance of a new data point to all other training data points. It then selects the K-nearest data points, where K can be any integer. Finally, it assigns the data point to the class to which the majority of the K data points belong.\n",
        "\n",
        "Here, K is a **hyperparameter**. A hyperparameter is a parameter of your model that is set before the training.\n",
        "\n",
        "![](http://res.cloudinary.com/dyd911kmh/image/upload/f_auto,q_auto:best/v1531424125/KNN_final1_ibdm8a.png)\n",
        "\n"
      ]
    },
    {
      "cell_type": "markdown",
      "metadata": {
        "id": "yjBoMy_0UXp0"
      },
      "source": [
        "**kNN Pseudocode**\n",
        "\n",
        "\n",
        "1. Load the data\n",
        "2. Initialise the value of k\n",
        "3. Calculate the distance between the test data and each row of training data.\n",
        "4. Sort the calculated distances in ascending order based on distance values\n",
        "5. Get top k rows from the sorted array\n",
        "6. Get the most frequent class of these rows\n",
        "7. Return the predicted class\n"
      ]
    },
    {
      "cell_type": "code",
      "metadata": {
        "id": "iDadZLNKPIZI"
      },
      "source": [
        "import pandas as pd\n",
        "import numpy as np\n",
        "import matplotlib.pyplot as plt\n",
        "from os.path import join\n",
        "\n",
        "%matplotlib inline"
      ],
      "execution_count": 1,
      "outputs": []
    },
    {
      "cell_type": "code",
      "metadata": {
        "id": "eEuuVrpgTlUt"
      },
      "source": [
        "def create_2D_sample(mean, std, n, label):\n",
        "  \"\"\"\n",
        "  given a set of sample parameters\n",
        "  returns a 2D sample\n",
        "  \"\"\"\n",
        "  # create data points\n",
        "  xvals = np.random.normal(loc=mean, scale=std, size=n).reshape(-1,1)\n",
        "  yvals = np.random.normal(loc=mean, scale=std, size=n).reshape(-1,1)\n",
        "\n",
        "  # class labels\n",
        "  labels = np.repeat(label, n).reshape(-1,1)\n",
        "\n",
        "  # merge observations and assigned labels\n",
        "  sample = np.hstack([xvals, yvals, labels])\n",
        "\n",
        "  return sample"
      ],
      "execution_count": 2,
      "outputs": []
    },
    {
      "cell_type": "code",
      "metadata": {
        "id": "ExAalcEQLX50",
        "colab": {
          "base_uri": "https://localhost:8080/",
          "height": 452
        },
        "outputId": "ffbbaf58-5732-47af-cf77-bd51ad661c1a"
      },
      "source": [
        "# number of observations\n",
        "n = 20\n",
        "# number of classes\n",
        "n_classes = 3\n",
        "# fix the random seed\n",
        "np.random.seed(42)\n",
        "\n",
        "# sample parameters\n",
        "means = [1.8, 3.5, 5.1]\n",
        "stds = [1.5, 1.2, 1.4]\n",
        "\n",
        "d = []\n",
        "for label in range(n_classes):\n",
        "  sample = create_2D_sample(means[label], stds[label], n, label)\n",
        "  d.append(sample)\n",
        "\n",
        "data = np.vstack(d)\n",
        "\n",
        "plt.scatter(data[:,0], data[:,1], c=data[:,2], s=20)\n",
        "plt.title(\"Randomly Generated Data\")\n",
        "plt.show()"
      ],
      "execution_count": 3,
      "outputs": [
        {
          "output_type": "display_data",
          "data": {
            "text/plain": [
              "<Figure size 640x480 with 1 Axes>"
            ],
            "image/png": "[encoded data removed]"
          },
          "metadata": {}
        }
      ]
    },
    {
      "cell_type": "markdown",
      "metadata": {
        "id": "n2L-FANELaFh"
      },
      "source": [
        "Now, let's apply kNN with different *k* values. To this end, we are going to utilize a new library named *sklearn* to employ various machine learning models. It's essential for you to understand and effectiely utilize sklearn and its functionalities. Please check the tutorials below and practice on your own.\n",
        "\n",
        "- https://scikit-learn.org/stable/tutorial/index.html\n",
        "- https://scikit-learn.org/stable/tutorial/basic/tutorial.html\n",
        "\n",
        "**Sklearn Structure**\n",
        "\n",
        "![](https://i.imgur.com/p7X0i2E.png)\n",
        "\n",
        "**Model Life Cycle**\n",
        "\n",
        "![](https://i.imgur.com/HPKXgs2.png)"
      ]
    },
    {
      "cell_type": "code",
      "metadata": {
        "id": "mdp_tPx_Lnjd",
        "colab": {
          "base_uri": "https://localhost:8080/",
          "height": 75
        },
        "outputId": "64b4c563-e1ed-41dd-bcb8-cfb3d78769ff"
      },
      "source": [
        "from sklearn.neighbors import KNeighborsClassifier\n",
        "\n",
        "# set the hyperparameter k\n",
        "k=2\n",
        "# generate the model\n",
        "model = KNeighborsClassifier(k, metric=\"euclidean\")\n",
        "\n",
        "# extract features and labels from the data\n",
        "features = data[:, :2]\n",
        "labels = data[:, 2]\n",
        "\n",
        "# fit data\n",
        "model.fit(features, labels)"
      ],
      "execution_count": 4,
      "outputs": [
        {
          "output_type": "execute_result",
          "data": {
            "text/plain": [
              "KNeighborsClassifier(metric='euclidean', n_neighbors=2)"
            ],
            "text/html": [
              "<style>#sk-container-id-1 {color: black;background-color: white;}#sk-container-id-1 pre{padding: 0;}#sk-container-id-1 div.sk-toggleable {background-color: white;}#sk-container-id-1 label.sk-toggleable__label {cursor: pointer;display: block;width: 100%;margin-bottom: 0;padding: 0.3em;box-sizing: border-box;text-align: center;}#sk-container-id-1 label.sk-toggleable__label-arrow:before {content: \"▸\";float: left;margin-right: 0.25em;color: #696969;}#sk-container-id-1 label.sk-toggleable__label-arrow:hover:before {color: black;}#sk-container-id-1 div.sk-estimator:hover label.sk-toggleable__label-arrow:before {color: black;}#sk-container-id-1 div.sk-toggleable__content {max-height: 0;max-width: 0;overflow: hidden;text-align: left;background-color: #f0f8ff;}#sk-container-id-1 div.sk-toggleable__content pre {margin: 0.2em;color: black;border-radius: 0.25em;background-color: #f0f8ff;}#sk-container-id-1 input.sk-toggleable__control:checked~div.sk-toggleable__content {max-height: 200px;max-width: 100%;overflow: auto;}#sk-container-id-1 input.sk-toggleable__control:checked~label.sk-toggleable__label-arrow:before {content: \"▾\";}#sk-container-id-1 div.sk-estimator input.sk-toggleable__control:checked~label.sk-toggleable__label {background-color: #d4ebff;}#sk-container-id-1 div.sk-label input.sk-toggleable__control:checked~label.sk-toggleable__label {background-color: #d4ebff;}#sk-container-id-1 input.sk-hidden--visually {border: 0;clip: rect(1px 1px 1px 1px);clip: rect(1px, 1px, 1px, 1px);height: 1px;margin: -1px;overflow: hidden;padding: 0;position: absolute;width: 1px;}#sk-container-id-1 div.sk-estimator {font-family: monospace;background-color: #f0f8ff;border: 1px dotted black;border-radius: 0.25em;box-sizing: border-box;margin-bottom: 0.5em;}#sk-container-id-1 div.sk-estimator:hover {background-color: #d4ebff;}#sk-container-id-1 div.sk-parallel-item::after {content: \"\";width: 100%;border-bottom: 1px solid gray;flex-grow: 1;}#sk-container-id-1 div.sk-label:hover label.sk-toggleable__label {background-color: #d4ebff;}#sk-container-id-1 div.sk-serial::before {content: \"\";position: absolute;border-left: 1px solid gray;box-sizing: border-box;top: 0;bottom: 0;left: 50%;z-index: 0;}#sk-container-id-1 div.sk-serial {display: flex;flex-direction: column;align-items: center;background-color: white;padding-right: 0.2em;padding-left: 0.2em;position: relative;}#sk-container-id-1 div.sk-item {position: relative;z-index: 1;}#sk-container-id-1 div.sk-parallel {display: flex;align-items: stretch;justify-content: center;background-color: white;position: relative;}#sk-container-id-1 div.sk-item::before, #sk-container-id-1 div.sk-parallel-item::before {content: \"\";position: absolute;border-left: 1px solid gray;box-sizing: border-box;top: 0;bottom: 0;left: 50%;z-index: -1;}#sk-container-id-1 div.sk-parallel-item {display: flex;flex-direction: column;z-index: 1;position: relative;background-color: white;}#sk-container-id-1 div.sk-parallel-item:first-child::after {align-self: flex-end;width: 50%;}#sk-container-id-1 div.sk-parallel-item:last-child::after {align-self: flex-start;width: 50%;}#sk-container-id-1 div.sk-parallel-item:only-child::after {width: 0;}#sk-container-id-1 div.sk-dashed-wrapped {border: 1px dashed gray;margin: 0 0.4em 0.5em 0.4em;box-sizing: border-box;padding-bottom: 0.4em;background-color: white;}#sk-container-id-1 div.sk-label label {font-family: monospace;font-weight: bold;display: inline-block;line-height: 1.2em;}#sk-container-id-1 div.sk-label-container {text-align: center;}#sk-container-id-1 div.sk-container {/* jupyter's `normalize.less` sets `[hidden] { display: none; }` but bootstrap.min.css set `[hidden] { display: none !important; }` so we also need the `!important` here to be able to override the default hidden behavior on the sphinx rendered scikit-learn.org. See: https://github.com/scikit-learn/scikit-learn/issues/21755 */display: inline-block !important;position: relative;}#sk-container-id-1 div.sk-text-repr-fallback {display: none;}</style><div id=\"sk-container-id-1\" class=\"sk-top-container\"><div class=\"sk-text-repr-fallback\"><pre>KNeighborsClassifier(metric=&#x27;euclidean&#x27;, n_neighbors=2)</pre><b>In a Jupyter environment, please rerun this cell to show the HTML representation or trust the notebook. <br />On GitHub, the HTML representation is unable to render, please try loading this page with nbviewer.org.</b></div><div class=\"sk-container\" hidden><div class=\"sk-item\"><div class=\"sk-estimator sk-toggleable\"><input class=\"sk-toggleable__control sk-hidden--visually\" id=\"sk-estimator-id-1\" type=\"checkbox\" checked><label for=\"sk-estimator-id-1\" class=\"sk-toggleable__label sk-toggleable__label-arrow\">KNeighborsClassifier</label><div class=\"sk-toggleable__content\"><pre>KNeighborsClassifier(metric=&#x27;euclidean&#x27;, n_neighbors=2)</pre></div></div></div></div></div>"
            ]
          },
          "metadata": {},
          "execution_count": 4
        }
      ]
    },
    {
      "cell_type": "markdown",
      "metadata": {
        "id": "YxWhTey2V5y0"
      },
      "source": [
        "Now, we have a model. Let's create a random data point and assign a label based on its neighbors."
      ]
    },
    {
      "cell_type": "code",
      "metadata": {
        "id": "Wn4DG8p5V8g2",
        "colab": {
          "base_uri": "https://localhost:8080/",
          "height": 452
        },
        "outputId": "af7397ce-667c-4530-859f-1a8516a6ccbb"
      },
      "source": [
        "# new data point\n",
        "d = np.array([[0,4]])\n",
        "\n",
        "# let's visualize its location on the chart\n",
        "plt.scatter(data[:,0], data[:,1], c=data[:,2], s=20)\n",
        "plt.scatter(d[:,0], d[:,1], s=80, c=\"red\")\n",
        "plt.title(\"Randomly Generated Data\")\n",
        "plt.show()"
      ],
      "execution_count": 5,
      "outputs": [
        {
          "output_type": "display_data",
          "data": {
            "text/plain": [
              "<Figure size 640x480 with 1 Axes>"
            ],
            "image/png": "[encoded data removed]"
          },
          "metadata": {}
        }
      ]
    },
    {
      "cell_type": "code",
      "metadata": {
        "id": "y9I-udX5V-zM",
        "colab": {
          "base_uri": "https://localhost:8080/",
          "height": 452
        },
        "outputId": "9a844ced-bf05-4276-8fa9-d28619bbf766"
      },
      "source": [
        "# now we can make the prediction\n",
        "# pred is just another numpy array\n",
        "# that stores the predicted labels\n",
        "pred = model.predict(d)\n",
        "\n",
        "# now let's also visualize the assigned color\n",
        "plt.scatter(data[:,0], data[:,1], c=data[:,2], s=20)\n",
        "plt.scatter(d[:,0], d[:,1], s=80, c=pred)\n",
        "plt.title(\"Randomly Generated Data\")\n",
        "plt.show()"
      ],
      "execution_count": 6,
      "outputs": [
        {
          "output_type": "display_data",
          "data": {
            "text/plain": [
              "<Figure size 640x480 with 1 Axes>"
            ],
            "image/png": "[encoded data removed]"
          },
          "metadata": {}
        }
      ]
    },
    {
      "cell_type": "markdown",
      "metadata": {
        "id": "q3ySX9ijWBfn"
      },
      "source": [
        "The model finds the closest two data points and assigns the label accordingly. As a result, the newly generated data point is assigned as label 0, color blue."
      ]
    },
    {
      "cell_type": "markdown",
      "metadata": {
        "id": "Qc8U3KGEWEGv"
      },
      "source": [
        "In addition, we can also visualize the boundaris for classifications."
      ]
    },
    {
      "cell_type": "code",
      "metadata": {
        "id": "7zWji2ZeWHfo",
        "colab": {
          "base_uri": "https://localhost:8080/",
          "height": 549,
          "referenced_widgets": [
            "5527e99d6a6049d3a5c9441285a1e351",
            "0190fa0795f8430abdae04ad52781060",
            "985a4e28ed67405e97f66e90b4e76dc7",
            "d8690ae1054a4e2bb9b59649381a5e8f",
            "23e76de485ab4a07ad5c392776615ce4",
            "f4dc9dc685b242cbbe213df8b4bc4c3a",
            "01b1c93910e14c4a8bb51017d5cb07a7"
          ]
        },
        "outputId": "e82d8bf8-63b8-4d87-f2b1-e2b6cfd98af9"
      },
      "source": [
        "from matplotlib.colors import ListedColormap\n",
        "from ipywidgets import interact\n",
        "\n",
        "def visualize_knn(k):\n",
        "  # generate the model\n",
        "  model = KNeighborsClassifier(k)\n",
        "\n",
        "  # extract features and labels from the data\n",
        "  features = data[:, :2]\n",
        "  labels = data[:, 2]\n",
        "\n",
        "  # fit data\n",
        "  model.fit(features, labels)\n",
        "\n",
        "  step = 0.1\n",
        "\n",
        "  cmap_light = ListedColormap(['orange', 'cyan', 'cornflowerblue'])\n",
        "  cmap_bold = ListedColormap(['darkorange', 'c', 'darkblue'])\n",
        "\n",
        "  x_min = data[:, 0].min() - 1\n",
        "  x_max = data[:, 0].max() + 1\n",
        "  y_min = data[:, 1].min() - 1\n",
        "  y_max = data[:, 1].max() + 1\n",
        "\n",
        "  xx, yy = np.meshgrid(np.arange(x_min, x_max, step), np.arange(y_min, y_max, step))\n",
        "  labels = model.predict(np.hstack([xx.reshape(-1,1), yy.reshape(-1,1)]))\n",
        "\n",
        "  # Put the result into a color plot\n",
        "  labels = labels.reshape(xx.shape)\n",
        "  plt.figure()\n",
        "  plt.pcolormesh(xx, yy, labels, cmap=cmap_light)\n",
        "  plt.scatter(data[:, 0], data[:, 1], c=data[:,2], cmap=cmap_bold, edgecolor='k', s=20)\n",
        "  plt.xlim(xx.min(), xx.max())\n",
        "  plt.ylim(yy.min(), yy.max())\n",
        "  plt.show()\n",
        "\n",
        "interact(visualize_knn, k=(1,10))"
      ],
      "execution_count": 7,
      "outputs": [
        {
          "output_type": "display_data",
          "data": {
            "text/plain": [
              "interactive(children=(IntSlider(value=5, description='k', max=10, min=1), Output()), _dom_classes=('widget-int…"
            ],
            "application/vnd.jupyter.widget-view+json": {
              "version_major": 2,
              "version_minor": 0,
              "model_id": "5527e99d6a6049d3a5c9441285a1e351"
            }
          },
          "metadata": {}
        },
        {
          "output_type": "execute_result",
          "data": {
            "text/plain": [
              "<function __main__.visualize_knn(k)>"
            ],
            "text/html": [
              "<div style=\"max-width:800px; border: 1px solid var(--colab-border-color);\"><style>\n",
              "      pre.function-repr-contents {\n",
              "        overflow-x: auto;\n",
              "        padding: 8px 12px;\n",
              "        max-height: 500px;\n",
              "      }\n",
              "\n",
              "      pre.function-repr-contents.function-repr-contents-collapsed {\n",
              "        cursor: pointer;\n",
              "        max-height: 100px;\n",
              "      }\n",
              "    </style>\n",
              "    <pre style=\"white-space: initial; background:\n",
              "         var(--colab-secondary-surface-color); padding: 8px 12px;\n",
              "         border-bottom: 1px solid var(--colab-border-color);\"><b>visualize_knn</b><br/>def visualize_knn(k)</pre><pre class=\"function-repr-contents function-repr-contents-collapsed\" style=\"\"><a class=\"filepath\" style=\"display:none\" href=\"#\">/content/&lt;ipython-input-7-37f34e9900ab&gt;</a>&lt;no docstring&gt;</pre></div>"
            ]
          },
          "metadata": {},
          "execution_count": 7
        }
      ]
    },
    {
      "cell_type": "markdown",
      "metadata": {
        "id": "SgsT-_i6WJOi"
      },
      "source": [
        "## Model Evaluation: Partitioning the Dataset\n",
        "\n",
        "In a general machine learning pipeline, most of the models possess hyperparameters that shoudl be set before the training process begins. Depending on the value of the hyperparameter, the performance of your model would alter. So, how are we going to determine the value of hyperparameters?\n",
        "\n",
        "#### Train, Validation & Test Dataset\n",
        "\n",
        "Utilizing the entire dataset for both training and testing is a very harmful practice. Instead, partition your dataset into two folds, namely *training* and *testing*. With training dataset, you fit (train) your model and then test your model with the reserved test data which is never exposed to the model beforehand. So that your model's ability to predict unseen data will be tested. We are going to be talking about this issue in the upcoming weeks in detail.\n",
        "\n",
        "<img height=\"250\" width=\"500\" src=\"https://i.stack.imgur.com/pXAfX.png\"/>\n",
        "\n",
        "In order to determine the optimal set of hyperparameters, you should further partition data. In this setting, in addition to the training and testing folds, you'll also need a *validation* set to *fine-tune the hyperparameters* in your model.\n",
        "\n",
        "---\n",
        "\n",
        "In summary:\n",
        "\n",
        "**Train Dataset:** A sample of the actual data to be used for training your model. Your model will be learning from this set.\n",
        "\n",
        "\n",
        "**Validation Dataset:** A sample from the actual data to be utilized for hyperparameter fine-tunning.\n",
        "\n",
        "**Test Dataset:** The sample to evaluate your model's performance.\n",
        "\n",
        "---\n",
        "\n",
        "\n",
        "#### Partition Proportions\n",
        "\n",
        "How are you going to split the dataset? How large should be each fold? These questions are most of the time context and dataset dependent. The size of your original dataset determines size of your split proportions. We'll be talking about these issues in the upcoming weeks.\n",
        "\n",
        "As a general practise, most people use 80-10-10 or 70-15-15 proportions for splitting their datasets."
      ]
    },
    {
      "cell_type": "markdown",
      "metadata": {
        "id": "S45JottlrtVy"
      },
      "source": [
        "## Determining the Value of K"
      ]
    },
    {
      "cell_type": "markdown",
      "metadata": {
        "id": "O8_Ex4h9mimV"
      },
      "source": [
        "In the following exercise, we are going to utilize a very famous dataset named wine quality and apply kNN with hyperparameter tunning for K."
      ]
    },
    {
      "cell_type": "code",
      "metadata": {
        "id": "e_asa14TejM_",
        "colab": {
          "base_uri": "https://localhost:8080/",
          "height": 206
        },
        "outputId": "9ac6cc94-4ef1-4ef6-f887-71739508ebb1"
      },
      "source": [
        "from sklearn import datasets\n",
        "\n",
        "wine = datasets.load_wine()\n",
        "cols = wine.feature_names + [\"target\"]\n",
        "df = pd.DataFrame(np.hstack([wine.data, wine.target.reshape(-1,1)]), columns=cols)\n",
        "df[\"target\"] = df[\"target\"].astype(int)\n",
        "df.head()"
      ],
      "execution_count": 8,
      "outputs": [
        {
          "output_type": "execute_result",
          "data": {
            "text/plain": [
              "   alcohol  malic_acid   ash  alcalinity_of_ash  magnesium  total_phenols  \\\n",
              "0    14.23        1.71  2.43               15.6      127.0           2.80   \n",
              "1    13.20        1.78  2.14               11.2      100.0           2.65   \n",
              "2    13.16        2.36  2.67               18.6      101.0           2.80   \n",
              "3    14.37        1.95  2.50               16.8      113.0           3.85   \n",
              "4    13.24        2.59  2.87               21.0      118.0           2.80   \n",
              "\n",
              "   flavanoids  nonflavanoid_phenols  proanthocyanins  color_intensity   hue  \\\n",
              "0        3.06                  0.28             2.29             5.64  1.04   \n",
              "1        2.76                  0.26             1.28             4.38  1.05   \n",
              "2        3.24                  0.30             2.81             5.68  1.03   \n",
              "3        3.49                  0.24             2.18             7.80  0.86   \n",
              "4        2.69                  0.39             1.82             4.32  1.04   \n",
              "\n",
              "   od280/od315_of_diluted_wines  proline  target  \n",
              "0                          3.92   1065.0       0  \n",
              "1                          3.40   1050.0       0  \n",
              "2                          3.17   1185.0       0  \n",
              "3                          3.45   1480.0       0  \n",
              "4                          2.93    735.0       0  "
            ],
            "text/html": [
              "\n",
              "  <div id=\"df-31b0b930-0a43-4e5a-9830-363d13972ccc\" class=\"colab-df-container\">\n",
              "    <div>\n",
              "<style scoped>\n",
              "    .dataframe tbody tr th:only-of-type {\n",
              "        vertical-align: middle;\n",
              "    }\n",
              "\n",
              "    .dataframe tbody tr th {\n",
              "        vertical-align: top;\n",
              "    }\n",
              "\n",
              "    .dataframe thead th {\n",
              "        text-align: right;\n",
              "    }\n",
              "</style>\n",
              "<table border=\"1\" class=\"dataframe\">\n",
              "  <thead>\n",
              "    <tr style=\"text-align: right;\">\n",
              "      <th></th>\n",
              "      <th>alcohol</th>\n",
              "      <th>malic_acid</th>\n",
              "      <th>ash</th>\n",
              "      <th>alcalinity_of_ash</th>\n",
              "      <th>magnesium</th>\n",
              "      <th>total_phenols</th>\n",
              "      <th>flavanoids</th>\n",
              "      <th>nonflavanoid_phenols</th>\n",
              "      <th>proanthocyanins</th>\n",
              "      <th>color_intensity</th>\n",
              "      <th>hue</th>\n",
              "      <th>od280/od315_of_diluted_wines</th>\n",
              "      <th>proline</th>\n",
              "      <th>target</th>\n",
              "    </tr>\n",
              "  </thead>\n",
              "  <tbody>\n",
              "    <tr>\n",
              "      <th>0</th>\n",
              "      <td>14.23</td>\n",
              "      <td>1.71</td>\n",
              "      <td>2.43</td>\n",
              "      <td>15.6</td>\n",
              "      <td>127.0</td>\n",
              "      <td>2.80</td>\n",
              "      <td>3.06</td>\n",
              "      <td>0.28</td>\n",
              "      <td>2.29</td>\n",
              "      <td>5.64</td>\n",
              "      <td>1.04</td>\n",
              "      <td>3.92</td>\n",
              "      <td>1065.0</td>\n",
              "      <td>0</td>\n",
              "    </tr>\n",
              "    <tr>\n",
              "      <th>1</th>\n",
              "      <td>13.20</td>\n",
              "      <td>1.78</td>\n",
              "      <td>2.14</td>\n",
              "      <td>11.2</td>\n",
              "      <td>100.0</td>\n",
              "      <td>2.65</td>\n",
              "      <td>2.76</td>\n",
              "      <td>0.26</td>\n",
              "      <td>1.28</td>\n",
              "      <td>4.38</td>\n",
              "      <td>1.05</td>\n",
              "      <td>3.40</td>\n",
              "      <td>1050.0</td>\n",
              "      <td>0</td>\n",
              "    </tr>\n",
              "    <tr>\n",
              "      <th>2</th>\n",
              "      <td>13.16</td>\n",
              "      <td>2.36</td>\n",
              "      <td>2.67</td>\n",
              "      <td>18.6</td>\n",
              "      <td>101.0</td>\n",
              "      <td>2.80</td>\n",
              "      <td>3.24</td>\n",
              "      <td>0.30</td>\n",
              "      <td>2.81</td>\n",
              "      <td>5.68</td>\n",
              "      <td>1.03</td>\n",
              "      <td>3.17</td>\n",
              "      <td>1185.0</td>\n",
              "      <td>0</td>\n",
              "    </tr>\n",
              "    <tr>\n",
              "      <th>3</th>\n",
              "      <td>14.37</td>\n",
              "      <td>1.95</td>\n",
              "      <td>2.50</td>\n",
              "      <td>16.8</td>\n",
              "      <td>113.0</td>\n",
              "      <td>3.85</td>\n",
              "      <td>3.49</td>\n",
              "      <td>0.24</td>\n",
              "      <td>2.18</td>\n",
              "      <td>7.80</td>\n",
              "      <td>0.86</td>\n",
              "      <td>3.45</td>\n",
              "      <td>1480.0</td>\n",
              "      <td>0</td>\n",
              "    </tr>\n",
              "    <tr>\n",
              "      <th>4</th>\n",
              "      <td>13.24</td>\n",
              "      <td>2.59</td>\n",
              "      <td>2.87</td>\n",
              "      <td>21.0</td>\n",
              "      <td>118.0</td>\n",
              "      <td>2.80</td>\n",
              "      <td>2.69</td>\n",
              "      <td>0.39</td>\n",
              "      <td>1.82</td>\n",
              "      <td>4.32</td>\n",
              "      <td>1.04</td>\n",
              "      <td>2.93</td>\n",
              "      <td>735.0</td>\n",
              "      <td>0</td>\n",
              "    </tr>\n",
              "  </tbody>\n",
              "</table>\n",
              "</div>\n",
              "    <div class=\"colab-df-buttons\">\n",
              "\n",
              "  <div class=\"colab-df-container\">\n",
              "    <button class=\"colab-df-convert\" onclick=\"convertToInteractive('df-31b0b930-0a43-4e5a-9830-363d13972ccc')\"\n",
              "            title=\"Convert this dataframe to an interactive table.\"\n",
              "            style=\"display:none;\">\n",
              "\n",
              "  <svg xmlns=\"http://www.w3.org/2000/svg\" height=\"24px\" viewBox=\"0 -960 960 960\">\n",
              "    <path d=\"M120-120v-720h720v720H120Zm60-500h600v-160H180v160Zm220 220h160v-160H400v160Zm0 220h160v-160H400v160ZM180-400h160v-160H180v160Zm440 0h160v-160H620v160ZM180-180h160v-160H180v160Zm440 0h160v-160H620v160Z\"/>\n",
              "  </svg>\n",
              "    </button>\n",
              "\n",
              "  <style>\n",
              "    .colab-df-container {\n",
              "      display:flex;\n",
              "      gap: 12px;\n",
              "    }\n",
              "\n",
              "    .colab-df-convert {\n",
              "      background-color: #E8F0FE;\n",
              "      border: none;\n",
              "      border-radius: 50%;\n",
              "      cursor: pointer;\n",
              "      display: none;\n",
              "      fill: #1967D2;\n",
              "      height: 32px;\n",
              "      padding: 0 0 0 0;\n",
              "      width: 32px;\n",
              "    }\n",
              "\n",
              "    .colab-df-convert:hover {\n",
              "      background-color: #E2EBFA;\n",
              "      box-shadow: 0px 1px 2px rgba(60, 64, 67, 0.3), 0px 1px 3px 1px rgba(60, 64, 67, 0.15);\n",
              "      fill: #174EA6;\n",
              "    }\n",
              "\n",
              "    .colab-df-buttons div {\n",
              "      margin-bottom: 4px;\n",
              "    }\n",
              "\n",
              "    [theme=dark] .colab-df-convert {\n",
              "      background-color: #3B4455;\n",
              "      fill: #D2E3FC;\n",
              "    }\n",
              "\n",
              "    [theme=dark] .colab-df-convert:hover {\n",
              "      background-color: #434B5C;\n",
              "      box-shadow: 0px 1px 3px 1px rgba(0, 0, 0, 0.15);\n",
              "      filter: drop-shadow(0px 1px 2px rgba(0, 0, 0, 0.3));\n",
              "      fill: #FFFFFF;\n",
              "    }\n",
              "  </style>\n",
              "\n",
              "    <script>\n",
              "      const buttonEl =\n",
              "        document.querySelector('#df-31b0b930-0a43-4e5a-9830-363d13972ccc button.colab-df-convert');\n",
              "      buttonEl.style.display =\n",
              "        google.colab.kernel.accessAllowed ? 'block' : 'none';\n",
              "\n",
              "      async function convertToInteractive(key) {\n",
              "        const element = document.querySelector('#df-31b0b930-0a43-4e5a-9830-363d13972ccc');\n",
              "        const dataTable =\n",
              "          await google.colab.kernel.invokeFunction('convertToInteractive',\n",
              "                                                    [key], {});\n",
              "        if (!dataTable) return;\n",
              "\n",
              "        const docLinkHtml = 'Like what you see? Visit the ' +\n",
              "          '<a target=\"_blank\" href=https://colab.research.google.com/notebooks/data_table.ipynb>data table notebook</a>'\n",
              "          + ' to learn more about interactive tables.';\n",
              "        element.innerHTML = '';\n",
              "        dataTable['output_type'] = 'display_data';\n",
              "        await google.colab.output.renderOutput(dataTable, element);\n",
              "        const docLink = document.createElement('div');\n",
              "        docLink.innerHTML = docLinkHtml;\n",
              "        element.appendChild(docLink);\n",
              "      }\n",
              "    </script>\n",
              "  </div>\n",
              "\n",
              "\n",
              "<div id=\"df-2aa8206b-0d44-43ad-88bd-4ac0648499ee\">\n",
              "  <button class=\"colab-df-quickchart\" onclick=\"quickchart('df-2aa8206b-0d44-43ad-88bd-4ac0648499ee')\"\n",
              "            title=\"Suggest charts\"\n",
              "            style=\"display:none;\">\n",
              "\n",
              "<svg xmlns=\"http://www.w3.org/2000/svg\" height=\"24px\"viewBox=\"0 0 24 24\"\n",
              "     width=\"24px\">\n",
              "    <g>\n",
              "        <path d=\"M19 3H5c-1.1 0-2 .9-2 2v14c0 1.1.9 2 2 2h14c1.1 0 2-.9 2-2V5c0-1.1-.9-2-2-2zM9 17H7v-7h2v7zm4 0h-2V7h2v10zm4 0h-2v-4h2v4z\"/>\n",
              "    </g>\n",
              "</svg>\n",
              "  </button>\n",
              "\n",
              "<style>\n",
              "  .colab-df-quickchart {\n",
              "      --bg-color: #E8F0FE;\n",
              "      --fill-color: #1967D2;\n",
              "      --hover-bg-color: #E2EBFA;\n",
              "      --hover-fill-color: #174EA6;\n",
              "      --disabled-fill-color: #AAA;\n",
              "      --disabled-bg-color: #DDD;\n",
              "  }\n",
              "\n",
              "  [theme=dark] .colab-df-quickchart {\n",
              "      --bg-color: #3B4455;\n",
              "      --fill-color: #D2E3FC;\n",
              "      --hover-bg-color: #434B5C;\n",
              "      --hover-fill-color: #FFFFFF;\n",
              "      --disabled-bg-color: #3B4455;\n",
              "      --disabled-fill-color: #666;\n",
              "  }\n",
              "\n",
              "  .colab-df-quickchart {\n",
              "    background-color: var(--bg-color);\n",
              "    border: none;\n",
              "    border-radius: 50%;\n",
              "    cursor: pointer;\n",
              "    display: none;\n",
              "    fill: var(--fill-color);\n",
              "    height: 32px;\n",
              "    padding: 0;\n",
              "    width: 32px;\n",
              "  }\n",
              "\n",
              "  .colab-df-quickchart:hover {\n",
              "    background-color: var(--hover-bg-color);\n",
              "    box-shadow: 0 1px 2px rgba(60, 64, 67, 0.3), 0 1px 3px 1px rgba(60, 64, 67, 0.15);\n",
              "    fill: var(--button-hover-fill-color);\n",
              "  }\n",
              "\n",
              "  .colab-df-quickchart-complete:disabled,\n",
              "  .colab-df-quickchart-complete:disabled:hover {\n",
              "    background-color: var(--disabled-bg-color);\n",
              "    fill: var(--disabled-fill-color);\n",
              "    box-shadow: none;\n",
              "  }\n",
              "\n",
              "  .colab-df-spinner {\n",
              "    border: 2px solid var(--fill-color);\n",
              "    border-color: transparent;\n",
              "    border-bottom-color: var(--fill-color);\n",
              "    animation:\n",
              "      spin 1s steps(1) infinite;\n",
              "  }\n",
              "\n",
              "  @keyframes spin {\n",
              "    0% {\n",
              "      border-color: transparent;\n",
              "      border-bottom-color: var(--fill-color);\n",
              "      border-left-color: var(--fill-color);\n",
              "    }\n",
              "    20% {\n",
              "      border-color: transparent;\n",
              "      border-left-color: var(--fill-color);\n",
              "      border-top-color: var(--fill-color);\n",
              "    }\n",
              "    30% {\n",
              "      border-color: transparent;\n",
              "      border-left-color: var(--fill-color);\n",
              "      border-top-color: var(--fill-color);\n",
              "      border-right-color: var(--fill-color);\n",
              "    }\n",
              "    40% {\n",
              "      border-color: transparent;\n",
              "      border-right-color: var(--fill-color);\n",
              "      border-top-color: var(--fill-color);\n",
              "    }\n",
              "    60% {\n",
              "      border-color: transparent;\n",
              "      border-right-color: var(--fill-color);\n",
              "    }\n",
              "    80% {\n",
              "      border-color: transparent;\n",
              "      border-right-color: var(--fill-color);\n",
              "      border-bottom-color: var(--fill-color);\n",
              "    }\n",
              "    90% {\n",
              "      border-color: transparent;\n",
              "      border-bottom-color: var(--fill-color);\n",
              "    }\n",
              "  }\n",
              "</style>\n",
              "\n",
              "  <script>\n",
              "    async function quickchart(key) {\n",
              "      const quickchartButtonEl =\n",
              "        document.querySelector('#' + key + ' button');\n",
              "      quickchartButtonEl.disabled = true;  // To prevent multiple clicks.\n",
              "      quickchartButtonEl.classList.add('colab-df-spinner');\n",
              "      try {\n",
              "        const charts = await google.colab.kernel.invokeFunction(\n",
              "            'suggestCharts', [key], {});\n",
              "      } catch (error) {\n",
              "        console.error('Error during call to suggestCharts:', error);\n",
              "      }\n",
              "      quickchartButtonEl.classList.remove('colab-df-spinner');\n",
              "      quickchartButtonEl.classList.add('colab-df-quickchart-complete');\n",
              "    }\n",
              "    (() => {\n",
              "      let quickchartButtonEl =\n",
              "        document.querySelector('#df-2aa8206b-0d44-43ad-88bd-4ac0648499ee button');\n",
              "      quickchartButtonEl.style.display =\n",
              "        google.colab.kernel.accessAllowed ? 'block' : 'none';\n",
              "    })();\n",
              "  </script>\n",
              "</div>\n",
              "    </div>\n",
              "  </div>\n"
            ],
            "application/vnd.google.colaboratory.intrinsic+json": {
              "type": "dataframe",
              "variable_name": "df",
              "summary": "{\n  \"name\": \"df\",\n  \"rows\": 178,\n  \"fields\": [\n    {\n      \"column\": \"alcohol\",\n      \"properties\": {\n        \"dtype\": \"number\",\n        \"std\": 0.8118265380058575,\n        \"min\": 11.03,\n        \"max\": 14.83,\n        \"num_unique_values\": 126,\n        \"samples\": [\n          11.62,\n          13.64,\n          13.69\n        ],\n        \"semantic_type\": \"\",\n        \"description\": \"\"\n      }\n    },\n    {\n      \"column\": \"malic_acid\",\n      \"properties\": {\n        \"dtype\": \"number\",\n        \"std\": 1.1171460976144627,\n        \"min\": 0.74,\n        \"max\": 5.8,\n        \"num_unique_values\": 133,\n        \"samples\": [\n          1.21,\n          2.83,\n          1.8\n        ],\n        \"semantic_type\": \"\",\n        \"description\": \"\"\n      }\n    },\n    {\n      \"column\": \"ash\",\n      \"properties\": {\n        \"dtype\": \"number\",\n        \"std\": 0.27434400906081485,\n        \"min\": 1.36,\n        \"max\": 3.23,\n        \"num_unique_values\": 79,\n        \"samples\": [\n          2.31,\n          2.43,\n          2.52\n        ],\n        \"semantic_type\": \"\",\n        \"description\": \"\"\n      }\n    },\n    {\n      \"column\": \"alcalinity_of_ash\",\n      \"properties\": {\n        \"dtype\": \"number\",\n        \"std\": 3.339563767173505,\n        \"min\": 10.6,\n        \"max\": 30.0,\n        \"num_unique_values\": 63,\n        \"samples\": [\n          25.5,\n          28.5,\n          15.6\n        ],\n        \"semantic_type\": \"\",\n        \"description\": \"\"\n      }\n    },\n    {\n      \"column\": \"magnesium\",\n      \"properties\": {\n        \"dtype\": \"number\",\n        \"std\": 14.282483515295665,\n        \"min\": 70.0,\n        \"max\": 162.0,\n        \"num_unique_values\": 53,\n        \"samples\": [\n          126.0,\n          85.0,\n          162.0\n        ],\n        \"semantic_type\": \"\",\n        \"description\": \"\"\n      }\n    },\n    {\n      \"column\": \"total_phenols\",\n      \"properties\": {\n        \"dtype\": \"number\",\n        \"std\": 0.6258510488339893,\n        \"min\": 0.98,\n        \"max\": 3.88,\n        \"num_unique_values\": 97,\n        \"samples\": [\n          1.68,\n          2.11,\n          1.35\n        ],\n        \"semantic_type\": \"\",\n        \"description\": \"\"\n      }\n    },\n    {\n      \"column\": \"flavanoids\",\n      \"properties\": {\n        \"dtype\": \"number\",\n        \"std\": 0.9988586850169467,\n        \"min\": 0.34,\n        \"max\": 5.08,\n        \"num_unique_values\": 132,\n        \"samples\": [\n          3.18,\n          2.5,\n          3.17\n        ],\n        \"semantic_type\": \"\",\n        \"description\": \"\"\n      }\n    },\n    {\n      \"column\": \"nonflavanoid_phenols\",\n      \"properties\": {\n        \"dtype\": \"number\",\n        \"std\": 0.12445334029667937,\n        \"min\": 0.13,\n        \"max\": 0.66,\n        \"num_unique_values\": 39,\n        \"samples\": [\n          0.58,\n          0.41,\n          0.39\n        ],\n        \"semantic_type\": \"\",\n        \"description\": \"\"\n      }\n    },\n    {\n      \"column\": \"proanthocyanins\",\n      \"properties\": {\n        \"dtype\": \"number\",\n        \"std\": 0.5723588626747613,\n        \"min\": 0.41,\n        \"max\": 3.58,\n        \"num_unique_values\": 101,\n        \"samples\": [\n          0.75,\n          1.77,\n          1.42\n        ],\n        \"semantic_type\": \"\",\n        \"description\": \"\"\n      }\n    },\n    {\n      \"column\": \"color_intensity\",\n      \"properties\": {\n        \"dtype\": \"number\",\n        \"std\": 2.318285871822413,\n        \"min\": 1.28,\n        \"max\": 13.0,\n        \"num_unique_values\": 132,\n        \"samples\": [\n          2.95,\n          3.3,\n          5.1\n        ],\n        \"semantic_type\": \"\",\n        \"description\": \"\"\n      }\n    },\n    {\n      \"column\": \"hue\",\n      \"properties\": {\n        \"dtype\": \"number\",\n        \"std\": 0.22857156582982338,\n        \"min\": 0.48,\n        \"max\": 1.71,\n        \"num_unique_values\": 78,\n        \"samples\": [\n          1.22,\n          1.04,\n          1.45\n        ],\n        \"semantic_type\": \"\",\n        \"description\": \"\"\n      }\n    },\n    {\n      \"column\": \"od280/od315_of_diluted_wines\",\n      \"properties\": {\n        \"dtype\": \"number\",\n        \"std\": 0.7099904287650504,\n        \"min\": 1.27,\n        \"max\": 4.0,\n        \"num_unique_values\": 122,\n        \"samples\": [\n          4.0,\n          1.82,\n          1.59\n        ],\n        \"semantic_type\": \"\",\n        \"description\": \"\"\n      }\n    },\n    {\n      \"column\": \"proline\",\n      \"properties\": {\n        \"dtype\": \"number\",\n        \"std\": 314.9074742768491,\n        \"min\": 278.0,\n        \"max\": 1680.0,\n        \"num_unique_values\": 121,\n        \"samples\": [\n          1375.0,\n          1270.0,\n          735.0\n        ],\n        \"semantic_type\": \"\",\n        \"description\": \"\"\n      }\n    },\n    {\n      \"column\": \"target\",\n      \"properties\": {\n        \"dtype\": \"number\",\n        \"std\": 0,\n        \"min\": 0,\n        \"max\": 2,\n        \"num_unique_values\": 3,\n        \"samples\": [\n          0,\n          1,\n          2\n        ],\n        \"semantic_type\": \"\",\n        \"description\": \"\"\n      }\n    }\n  ]\n}"
            }
          },
          "metadata": {},
          "execution_count": 8
        }
      ]
    },
    {
      "cell_type": "markdown",
      "metadata": {
        "id": "rbMkE9AssTqb"
      },
      "source": [
        "In this dataset, our goal is to predict the wine quality given a new set of wines. Here, we have 3 unique class labels."
      ]
    },
    {
      "cell_type": "code",
      "metadata": {
        "id": "rmkjaNp5pnx_",
        "colab": {
          "base_uri": "https://localhost:8080/"
        },
        "outputId": "56c965ce-8377-4dc8-b086-6a1f10d57e41"
      },
      "source": [
        "df[\"target\"].unique()"
      ],
      "execution_count": 9,
      "outputs": [
        {
          "output_type": "execute_result",
          "data": {
            "text/plain": [
              "array([0, 1, 2])"
            ]
          },
          "metadata": {},
          "execution_count": 9
        }
      ]
    },
    {
      "cell_type": "markdown",
      "metadata": {
        "id": "3HEIDACEp0Xv"
      },
      "source": [
        "#### Data Partitioning\n",
        "\n",
        "First and foremost, you must separate your features and the label column. And then, split as you wish. Here, we are going to deploy 80-10-10 partitioning."
      ]
    },
    {
      "cell_type": "code",
      "metadata": {
        "id": "oVVRG4YFtm7C"
      },
      "source": [
        "# separate features and the target column\n",
        "X = df.drop(\"target\", axis=1)\n",
        "y = df[\"target\"]"
      ],
      "execution_count": 10,
      "outputs": []
    },
    {
      "cell_type": "code",
      "metadata": {
        "id": "vRaUKP_PsjpV"
      },
      "source": [
        "from sklearn.model_selection import train_test_split\n",
        "\n",
        "# 80% for training and 20% for testing-validation\n",
        "X_train, X_remaining, y_train, y_remaining = train_test_split(X, y, test_size=0.20, random_state=42)\n",
        "# 10% validation, 10% test\n",
        "X_test, X_val, y_test, y_val = train_test_split(X_remaining, y_remaining, test_size=0.50, random_state=42)"
      ],
      "execution_count": 11,
      "outputs": []
    },
    {
      "cell_type": "markdown",
      "metadata": {
        "id": "tg5xRvovwe4Y"
      },
      "source": [
        "#### Evalution Criteria"
      ]
    },
    {
      "cell_type": "markdown",
      "metadata": {
        "id": "cDD0QDFhuxco"
      },
      "source": [
        "Now, let's generate a set of values to be tested for the hyperparameter K. We're going to evalute each model with a metric named **accuracy score** which is specialized metric for classification problems as here.\n",
        "\n",
        "``` py\n",
        ">>> from sklearn.metrics import accuracy_score\n",
        ">>> y_pred = [0, 2, 1, 3]\n",
        ">>> y_true = [0, 1, 2, 3]\n",
        ">>> accuracy_score(y_true, y_pred)\n",
        "0.5\n",
        "```"
      ]
    },
    {
      "cell_type": "code",
      "metadata": {
        "id": "VUUqX39Tvite",
        "colab": {
          "base_uri": "https://localhost:8080/",
          "height": 564
        },
        "outputId": "ae4dbd31-c81d-4581-cb24-b5107c5aa510"
      },
      "source": [
        "from sklearn.metrics import accuracy_score\n",
        "\n",
        "K_range = np.arange(1, 15)\n",
        "accuracy_list = []\n",
        "\n",
        "for k in K_range:\n",
        "  # create a new model with current K\n",
        "  knn = KNeighborsClassifier(k, metric=\"euclidean\")\n",
        "  # fit training data\n",
        "  knn.fit(X_train, y_train)\n",
        "  # predict the validation data\n",
        "  y_pred = knn.predict(X_val)\n",
        "  # obtain the accuracy value\n",
        "  accuracy = accuracy_score(y_val, y_pred)\n",
        "  accuracy_list.append(accuracy)\n",
        "\n",
        "plt.figure(figsize=(12, 6))\n",
        "plt.plot(K_range, accuracy_list, color='black', linestyle='dashed', marker='o',\n",
        "         markerfacecolor='red', markersize=10)\n",
        "plt.title('Accuracy of the Validation w/ K')\n",
        "plt.xlabel('K')\n",
        "plt.ylabel('Accuracy')\n",
        "plt.xticks(K_range)\n",
        "plt.grid()\n",
        "plt.show()"
      ],
      "execution_count": 12,
      "outputs": [
        {
          "output_type": "display_data",
          "data": {
            "text/plain": [
              "<Figure size 1200x600 with 1 Axes>"
            ],
            "image/png": "[encoded data removed]"
          },
          "metadata": {}
        }
      ]
    },
    {
      "cell_type": "markdown",
      "metadata": {
        "id": "4Ff1CIrAxo66"
      },
      "source": [
        "The figure above shows that we obtain the maximum accuracy score when K is set to 5.\n",
        "\n",
        "Now, we can observe the overall performance of the developed model with respect to the reserved test dataset."
      ]
    },
    {
      "cell_type": "code",
      "metadata": {
        "id": "dzo9J_m-1SSA",
        "colab": {
          "base_uri": "https://localhost:8080/",
          "height": 36
        },
        "outputId": "952ae397-6a45-4762-8ab4-a9f1d6c26a42"
      },
      "source": [
        "# create a new model with current K\n",
        "knn = KNeighborsClassifier(5, metric=\"euclidean\")\n",
        "# fit training data\n",
        "knn.fit(X_train, y_train)\n",
        "# predict the validation data\n",
        "y_pred = knn.predict(X_test)\n",
        "# obtain the accuracy value\n",
        "f\"{accuracy_score(y_test, y_pred):.2f}\""
      ],
      "execution_count": 13,
      "outputs": [
        {
          "output_type": "execute_result",
          "data": {
            "text/plain": [
              "'0.56'"
            ],
            "application/vnd.google.colaboratory.intrinsic+json": {
              "type": "string"
            }
          },
          "metadata": {},
          "execution_count": 13
        }
      ]
    },
    {
      "cell_type": "markdown",
      "metadata": {
        "id": "gMQIWgo35zoX"
      },
      "source": [
        "As you can see, we obtained a much lower test accuracy value compared to the validation score. Since we randomly partition the data points into training, validation and test datasets, we may obtain varying metrics. In the upcoming weeks, we'll talk about more on the model evaluation and hyperparameter tunning."
      ]
    }
  ]
}