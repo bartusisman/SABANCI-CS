{
  "cells": [
    {
      "cell_type": "code",
      "execution_count": null,
      "metadata": {
        "colab": {
          "base_uri": "https://localhost:8080/"
        },
        "id": "hrdP1sbdATzx",
        "outputId": "c91d39b4-b446-4663-8220-031a09c7595b"
      },
      "outputs": [
        {
          "name": "stdout",
          "output_type": "stream",
          "text": [
            "Mounted at /content/gdrive\n"
          ]
        }
      ],
      "source": [
        "from google.colab import drive\n",
        "drive.mount('/content/gdrive', force_remount=True)"
      ]
    },
    {
      "cell_type": "markdown",
      "metadata": {
        "id": "s4IJ5WgD-qkR"
      },
      "source": [
        "# Data Collection\n",
        "\n",
        "In this lecture, we are going to see some of the examples on how to extract data from online resources.  \n",
        "Particularly, web scraping and API use cases will be examined."
      ]
    },
    {
      "cell_type": "markdown",
      "metadata": {
        "id": "Glefpjoj8iC2"
      },
      "source": [
        "## A General Pipeline\n",
        "\n",
        "*Data Collection*\n",
        "> The process of gathering and measuring information on variables of interest, in an established systematic fashion that enables one to answer queries, stated research questions, test hypotheses, and evaluate outcomes.\n",
        "\n",
        "<div>\n",
        "<img src=\"https://miro.medium.com/max/1200/1*ZWcBynyugbLpWcU3QWH7Tg.jpeg\" alt=\"project-flow\" width=\"500\" height=\"600\"/>\n",
        "</div>\n"
      ]
    },
    {
      "cell_type": "markdown",
      "metadata": {
        "id": "4Qwn3Vgy4lA8"
      },
      "source": [
        "## Data Sources\n",
        "\n",
        "#### Central Authorities\n",
        "\n",
        "- [The U.S Governments Open Data](http://www.data.gov/)\n",
        "- [Reddit Open Data](https://www.reddit.com/r/opendata/)\n",
        "- [Climate Data](http://www.realclimate.org/index.php/data-sources/)\n",
        "- [The World Bank](https://datacatalog.worldbank.org/)\n",
        "\n",
        "#### Databases\n",
        "\n",
        "- [Crawdad](https://crawdad.org/)\n",
        "- [Radar](https://www.radars.org.uk/)\n",
        "- Private Databases\n",
        "\n",
        "#### Web Scraping & APIs\n",
        "\n",
        "A data scientist doesn’t always get data handed to them in a CSV or an easily accessible database. In those cases, you need to manually extract the data from various resources. To this end, we have specialized tools.\n",
        "\n",
        "For instance, most of the web sources, such as IMDB, provide a set of protocols/methods for outside connections to interact with their database. These protocols/methods are aggregated as an **API** (Application Programming Interface). An API can be used in numerous contexts, such OS or web-dev like here. The idea is to have an outer interface for those who wish access a set of resources. In our case, this resource is particularly a dataset.\n",
        "\n",
        "However, there might be some cases in which an API does not exist. The desired data is embedded in the raw HTML file and enclosed by various tags. In those cases, we need to parse the document and extract the desired data. To this end, we have **web scraping** concept in which the HTML file is parsed and stored as a tree to preserve the hierarchical relationship between tags.\n",
        "\n",
        "\n"
      ]
    },
    {
      "cell_type": "markdown",
      "metadata": {
        "id": "tDYc5JRRJXKp"
      },
      "source": [
        "## Web Scarping\n",
        "\n",
        "Web scraping is a technique to automatically access and extract large amounts of information from a website, which can save a huge amount of time and effort.\n",
        "\n",
        "\n",
        "![](https://pbs.twimg.com/media/EGwqy2OWwAAi6-F?format=jpg&name=small)"
      ]
    },
    {
      "cell_type": "markdown",
      "metadata": {
        "id": "uJxibFOdyhm9"
      },
      "source": [
        "## Working with APIs\n",
        "\n",
        "The term API is an acronym, and it stands for \"**Application Programming Interface**\". Think of an API like a menu in a restaurant. The menu provides a list of dishes you can order, along with a description of each dish. When you specify what menu items you want, the restaurant’s kitchen does the work and provides you with some finished dishes. You don’t know exactly how the restaurant prepares that food, and you don’t really need to.\n",
        "\n",
        "![](https://miro.medium.com/max/1200/1*3h95bN2_xe-eitwHh_Ygvw.png)"
      ]
    },
    {
      "cell_type": "markdown",
      "metadata": {
        "id": "jy6AgQIwzodO"
      },
      "source": [
        "## HTTP Requests\n",
        "\n",
        "HTTP stands for Hypertext Transfer Protocol and is used to structure requests and responses over the internet. HTTP requires data to be transferred from one point to another over the network. You may think of it as the command language that the devices on both sides of the connection must follow in order to communicate.\n",
        "\n",
        "\n",
        "|Command (HTTP CODE)|CRUD Operation|Sample Endpoint|Description|\n",
        "|---|---|---|---|\n",
        "|get (GET)|Read (Retrieve)|http://example.com/resources/item17|Retrieve a representation of the addressed member of the collection, expressed in an appropriate Internet media type.|\n",
        "|post (POST)|Create\tCollection|http://example.com/resources/|Create a new entry in the collection. The new entry's URL is assigned automatically and is usually returned by the operation.|\n",
        "|put (PUT)|Update|http://example.com/resources/item17|Replace the addressed member of the collection, or if it doesn't exist, create it|.\n",
        "|delete (DELETE)|Delete (Destroy)|http://example.com/resources/item17|Delete the addressed member of the collection.|\n",
        "||||**Table 1 Methods and sample endpoints.**|\n",
        "\n",
        "Below, you may find a sample request from [Twitter's official API page](https://developer.twitter.com/en/docs/tweets/search/api-reference/get-search-tweets).\n",
        "\n",
        "![](https://pbs.twimg.com/media/EGsWEYwX0AADYm8?format=jpg&name=large)\n",
        "\n",
        "In return, this request is replied with a set fo extracted tweets in **json** format.\n",
        "\n",
        "JSON is short for JavaScript Object Notation, and is a way to store information in an organized, easy-to-access manner. In a nutshell, it gives us a human-readable collection of data that we can access in a really logical manner. You may think of them as a generalized dictionary object across various languages.\n",
        "\n",
        "<div>\n",
        "<img src=\"https://d2tlksottdg9m1.cloudfront.net/uploads/2019/02/JSONSample.jpg\" alt=\"project-flow\" width=\"500\" height=\"400\"/>\n",
        "</div>\n",
        "\n",
        "\n"
      ]
    },
    {
      "cell_type": "code",
      "execution_count": null,
      "metadata": {
        "id": "hVE_2IUqAbwU"
      },
      "outputs": [],
      "source": [
        "# the library to perform I/O operations in json format\n",
        "import json\n",
        "# smart path joining\n",
        "from os.path import join\n",
        "# pretty printing\n",
        "from pprint import pprint\n",
        "\n",
        "path = \"/content/gdrive/My Drive/data\""
      ]
    },
    {
      "cell_type": "code",
      "execution_count": null,
      "metadata": {
        "colab": {
          "base_uri": "https://localhost:8080/"
        },
        "id": "jRETJRo8AsCw",
        "outputId": "9382ccc7-5b78-435e-ada2-e7327807f8ae"
      },
      "outputs": [
        {
          "name": "stdout",
          "output_type": "stream",
          "text": [
            "Data Type:  <class 'dict'>\n",
            "{'quiz': {'maths': {'q1': {'answer': '12',\n",
            "                           'options': ['10', '11', '12', '13'],\n",
            "                           'question': '5 + 7 = ?'},\n",
            "                    'q2': {'answer': '4',\n",
            "                           'options': ['1', '2', '3', '4'],\n",
            "                           'question': '12 - 8 = ?'}},\n",
            "          'sport': {'q1': {'answer': 'Huston Rocket',\n",
            "                           'options': ['New York Bulls',\n",
            "                                       'Los Angeles Kings',\n",
            "                                       'Golden State Warriros',\n",
            "                                       'Huston Rocket'],\n",
            "                           'question': 'Which one is correct team name in '\n",
            "                                       'NBA?'}}}}\n",
            "{'answer': '12', 'options': ['10', '11', '12', '13'], 'question': '5 + 7 = ?'}\n"
          ]
        }
      ],
      "source": [
        "filename = \"quiz.json\"\n",
        "\n",
        "# retrieve the file object\n",
        "with open(join(path, filename), \"r\") as f:\n",
        "  # load the json object into a variable\n",
        "  data = json.load(f)\n",
        "\n",
        "# now, variable 'data' is just a dictionary object\n",
        "print(\"Data Type: \", type(data))\n",
        "pprint(data)\n",
        "\n",
        "# accessing deeper levels\n",
        "pprint(data[\"quiz\"][\"maths\"][\"q1\"])"
      ]
    },
    {
      "cell_type": "markdown",
      "metadata": {
        "id": "5oCTyMpyy3rU"
      },
      "source": [
        "## Goodreads: Collecting Popular Books!\n",
        "\n",
        "[Goodreads](https://www.goodreads.com/) is a social cataloging website that allows individuals to freely search its database of books, annotations, and reviews.\n",
        "\n",
        "<img src=\"https://pbs.twimg.com/media/EGxQ68EXYAIque2?format=png&name=small\" alt=\"project-flow\" width=\"500\" height=\"500\"/>\n",
        "\n",
        "The figure above shows a snapshot from a Goodreads list named [Books That Everyone Should Read At Least Once](https://www.goodreads.com/list/show/264.Books_That_Everyone_Should_Read_At_Least_Once). Now, we are going to scrape the books listed in this website and create a dataframe in which each row will represent a book with the following attributes.\n",
        "\n",
        "---\n",
        "\n",
        "- *rating*: the average rating on a 1-5 scale achieved by the book\n",
        "- *review_count*: the number of Goodreads users who reviewed this book\n",
        "- *booktype*: an internal Goodreads identifier for the book\n",
        "- *author_url*: the Goodreads (relative) URL for the author of the book\n",
        "- *rating_count*: the number of ratings for this book (this is different from the number of reviews)\n",
        "- *name*: the name of the book\n",
        "---\n",
        "\n",
        "\n"
      ]
    },
    {
      "cell_type": "markdown",
      "metadata": {
        "id": "VmkyDW9s3vY0"
      },
      "source": [
        "First of all, we need to understand how these books are placed in the dom tree. The naive approach is to download the webpage as a regular _html_ file and locate it manually. However, this process would take a long time and yield a huge cognitive load.\n",
        "\n",
        "Luckily, modern browsers possess a built-in inspection tool to analyze webpages. For instance, if you press on _F12_ or _Ctrl+Shift+i_ the screen below would appear. Here, we are able observe and control the dom tree of the webpage.\n",
        "\n",
        "<img src=\"https://www.maketecheasier.com/assets/uploads/2016/12/google-chrome-inspect-element-elements-tab-min.png\" alt=\"project-flow\" width=\"400\" height=\"400\"/>\n",
        "\n",
        "In our case, the inspection tool provides a useful functionality to automatically locate the table in the webpage. The figure below shows the location of the selected book, which is highlighted with blue rectangle, in the webpage. As a result, `table` tag with class `tableList` contains the entire list. And each entry in the table is stored within `tr` tag.\n",
        "\n",
        "![](https://pbs.twimg.com/media/EGxex--WwAIkfeX?format=jpg&name=small)\n",
        "\n",
        "![](https://pbs.twimg.com/media/EGxjw-lW4AYjmeG?format=png&name=small)\n",
        "\n",
        "At this point, we located where our data is. Now, we need a set of tools to extract each entry in the table in an automated manner. But, before that, we need another mechanism to retrieve (download) the webpages for us."
      ]
    },
    {
      "cell_type": "markdown",
      "metadata": {
        "id": "ZhyuscqQJSmD"
      },
      "source": [
        "### Requests: Making HTTP Requests!\n",
        "\n",
        "This is the de facto standard library for making HTTP requests in Python. It abstracts the complexities of making requests behind a beautiful, simple API so that you can focus on interacting with services and consuming data in your application.\n",
        "\n",
        "As mentioned before, the `GET` method indicates that you’re trying to get or retrieve data from a specified resource. To make a GET request with `requests` library, just call requests.get(url) with url as the target webpage."
      ]
    },
    {
      "cell_type": "code",
      "execution_count": null,
      "metadata": {
        "id": "RnU8NtZEJrBu"
      },
      "outputs": [],
      "source": [
        "# the library comes built-in with colab\n",
        "import requests"
      ]
    },
    {
      "cell_type": "code",
      "execution_count": null,
      "metadata": {
        "id": "ebNgHBwyKQ9h"
      },
      "outputs": [],
      "source": [
        "url = \"http://www.google.com\"\n",
        "# making a GET request\n",
        "res = requests.get(url)"
      ]
    },
    {
      "cell_type": "code",
      "execution_count": null,
      "metadata": {
        "colab": {
          "base_uri": "https://localhost:8080/"
        },
        "id": "jGuT5iw1Kg0i",
        "outputId": "61800297-41db-4832-a369-255268658221"
      },
      "outputs": [
        {
          "data": {
            "text/plain": [
              "200"
            ]
          },
          "execution_count": 6,
          "metadata": {},
          "output_type": "execute_result"
        }
      ],
      "source": [
        "# success code\n",
        "res.status_code"
      ]
    },
    {
      "cell_type": "code",
      "execution_count": null,
      "metadata": {
        "colab": {
          "base_uri": "https://localhost:8080/"
        },
        "id": "wBSMoUg2Ktvs",
        "outputId": "d71586d2-6c46-4f7c-f32b-6a552ed682ff"
      },
      "outputs": [
        {
          "data": {
            "text/plain": [
              "b'<!doctype html><html itemscope=\"\" itemtype=\"http://schema.org/WebPage\" lang=\"en\"><head><meta content=\"Search the world\\'s information, including webpages, images, videos and more. Google has many special features to help you find exactly what you\\'re looking for.\" name=\"description\"><meta content=\"noodp\" name=\"robots\"><meta content=\"text/html; charset=UTF-8\" http-equiv=\"Content-Type\"><meta content=\"/images/branding/googleg/1x/googleg_standard_color_128dp.png\" itemprop=\"image\"><title>Google</title><script nonce=\"IxN1ijBJ5VAz4OrEacTrmQ\">(function(){var _g={kEI:\\'Fuz1ZbedFbCMwbkPx5WoqAQ\\',kEXPI:\\'0,18168,1347300,206,4804,2329821,650,361,379728,35513,9286,24076,12027,17588,4998,23959,29334,2226,2872,2891,3926,4422,4012,58287,2403,15324,2025,1,16916,2652,4,62597,24052,6642,7596,1,42154,2,16395,342,23024,6700,31121,4569,6258,24670,33064,2,2,1,10957,15675,8155,23350,22436,9779,42459,20198,23165,13582,3801,2412,30219,3030,15816,1804,7734,6626,1,11471,21250,1632,8842,868,3786,42866,5203197,6942,2,297,1347,580,2,57,5992682,2839066,1,27983068,1007,15665,43887,3,1603,3,2121778,2585,16815,2,2,22619618,392914,7954,1,208,4636,8409,4505,3522,2728,5910,13023,4426,3852,2170,4555,5878,16993,8112,2,5885,1922,7288,1301,2370,4832,1575,2866,1244,6351,3385,884,12068,2212,153,2066,1604,4,1448,2706,201,389,6794,733,218,3,5107,672,3829,5,125,5086,2258,1896,1972,2707,6456,4557,1701,4,656,1264,1203,1794,3219,3123,2,2528,1213,4489,605,3832,1745,319,595,1264,3,539,72,419,712,1380,739,1,895,6,369,355,122,33,1,1,1,2481,5,3771,3,1209,49,1536,1,1694,679,3501,242,814,205,224,372,203,1406,2158,4,1534,47,10,443,33,240,509,348,7,312,14,4069,788,1405,4,174,2,243,49,660,298,12,9,789,380,149,525,324,1,2,430,197,603,413,432,141,36,1,3,124,217,605,5,13,119,183,206,122,385,29,16,547,774,457,1716,1,1,1,2,3,129,18,14,353,2,691,3,1,3,370,50,1,6,652,372,660,419,1,3,29,37,4,480,686,660,464,924,2,512,575,3,391,1177,134,67,5,534,433,1605,41,325,415,2,797,231,1,443,411,38,1943,1674,21242060,61112,359916,5720,3,6062,1114,631,518,4,74,410,171,3300522\\',kBL:\\'sWCQ\\',kOPI:89978449};(function(){var a;(null==(a=window.google)?0:a.stvsc)?google.kEI=_g.kEI:window.google=_g;}).call(this);})();(function(){google.sn=\\'webhp\\';google.kHL=\\'en\\';})();(function(){\\nvar h=this||self;function l(){return void 0!==window.google&&void 0!==window.google.kOPI&&0!==window.google.kOPI?window.google.kOPI:null};var m,n=[];function p(a){for(var b;a&&(!a.getAttribute||!(b=a.getAttribute(\"eid\")));)a=a.parentNode;return b||m}function q(a){for(var b=null;a&&(!a.getAttribute||!(b=a.getAttribute(\"leid\")));)a=a.parentNode;return b}function r(a){/^http:/i.test(a)&&\"https:\"===window.location.protocol&&(google.ml&&google.ml(Error(\"a\"),!1,{src:a,glmm:1}),a=\"\");return a}\\nfunction t(a,b,c,d,k){var e=\"\";-1===b.search(\"&ei=\")&&(e=\"&ei=\"+p(d),-1===b.search(\"&lei=\")&&(d=q(d))&&(e+=\"&lei=\"+d));d=\"\";var g=-1===b.search(\"&cshid=\")&&\"slh\"!==a,f=[];f.push([\"zx\",Date.now().toString()]);h._cshid&&g&&f.push([\"cshid\",h._cshid]);c=c();null!=c&&f.push([\"opi\",c.toString()]);for(c=0;c<f.length;c++){if(0===c||0<c)d+=\"&\";d+=f[c][0]+\"=\"+f[c][1]}return\"/\"+(k||\"gen_204\")+\"?atyp=i&ct=\"+String(a)+\"&cad=\"+(b+e+d)};m=google.kEI;google.getEI=p;google.getLEI=q;google.ml=function(){return null};google.log=function(a,b,c,d,k,e){e=void 0===e?l:e;c||(c=t(a,b,e,d,k));if(c=r(c)){a=new Image;var g=n.length;n[g]=a;a.onerror=a.onload=a.onabort=function(){delete n[g]};a.src=c}};google.logUrl=function(a,b){b=void 0===b?l:b;return t(\"\",a,b)};}).call(this);(function(){google.y={};google.sy=[];google.x=function(a,b){if(a)var c=a.id;else{do c=Math.random();while(google.y[c])}google.y[c]=[a,b];return!1};google.sx=function(a){google.sy.push(a)};google.lm=[];google.plm=function(a){google.lm.push.apply(google.lm,a)};google.lq=[];google.load=function(a,b,c){google.lq.push([[a],b,c])};google.loadAll=function(a,b){google.lq.push([a,b])};google.bx=!1;google.lx=function(){};var d=[];google.fce=function(a,b,c,e){d.push([a,b,c,e])};google.qce=d;}).call(this);google.f={};(function(){\\ndocument.documentElement.addEventListener(\"submit\",function(b){var a;if(a=b.target){var c=a.getAttribute(\"data-submitfalse\");a=\"1\"===c||\"q\"===c&&!a.elements.q.value?!0:!1}else a=!1;a&&(b.preventDefault(),b.stopPropagation())},!0);document.documentElement.addEventListener(\"click\",function(b){var a;a:{for(a=b.target;a&&a!==document.documentElement;a=a.parentElement)if(\"A\"===a.tagName){a=\"1\"===a.getAttribute(\"data-nohref\");break a}a=!1}a&&b.preventDefault()},!0);}).call(this);</script><style>#gbar,#guser{font-size:13px;padding-top:1px !important;}#gbar{height:22px}#guser{padding-bottom:7px !important;text-align:right}.gbh,.gbd{border-top:1px solid #c9d7f1;font-size:1px}.gbh{height:0;position:absolute;top:24px;width:100%}@media all{.gb1{height:22px;margin-right:.5em;vertical-align:top}#gbar{float:left}}a.gb1,a.gb4{text-decoration:underline !important}a.gb1,a.gb4{color:#00c !important}.gbi .gb4{color:#dd8e27 !important}.gbf .gb4{color:#900 !important}\\n</style><style>body,td,a,p,.h{font-family:arial,sans-serif}body{margin:0;overflow-y:scroll}#gog{padding:3px 8px 0}td{line-height:.8em}.gac_m td{line-height:17px}form{margin-bottom:20px}.h{color:#1967d2}em{font-weight:bold;font-style:normal}.lst{height:25px;width:496px}.gsfi,.lst{font:18px arial,sans-serif}.gsfs{font:17px arial,sans-serif}.ds{display:inline-box;display:inline-block;margin:3px 0 4px;margin-left:4px}input{font-family:inherit}body{background:#fff;color:#000}a{color:#681da8;text-decoration:none}a:hover,a:active{text-decoration:underline}.fl a{color:#1967d2}a:visited{color:#681da8}.sblc{padding-top:5px}.sblc a{display:block;margin:2px 0;margin-left:13px;font-size:11px}.lsbb{background:#f8f9fa;border:solid 1px;border-color:#dadce0 #70757a #70757a #dadce0;height:30px}.lsbb{display:block}#WqQANb a{display:inline-block;margin:0 12px}.lsb{background:url(/images/nav_logo229.png) 0 -261px repeat-x;color:#000;border:none;cursor:pointer;height:30px;margin:0;outline:0;font:15px arial,sans-serif;vertical-align:top}.lsb:active{background:#dadce0}.lst:focus{outline:none}</style><script nonce=\"IxN1ijBJ5VAz4OrEacTrmQ\">(function(){window.google.erd={jsr:1,bv:1973,de:true};\\nvar h=this||self;var k,l=null!=(k=h.mei)?k:1,n,p=null!=(n=h.sdo)?n:!0,q=0,r,t=google.erd,v=t.jsr;google.ml=function(a,b,d,m,e){e=void 0===e?2:e;b&&(r=a&&a.message);void 0===d&&(d={});d.cad=\"ple_\"+google.ple+\".aple_\"+google.aple;if(google.dl)return google.dl(a,e,d),null;b=d;if(0>v){window.console&&console.error(a,b);if(-2===v)throw a;b=!1}else b=!a||!a.message||\"Error loading script\"===a.message||q>=l&&!m?!1:!0;if(!b)return null;q++;d=d||{};b=encodeURIComponent;var c=\"/gen_204?atyp=i&ei=\"+b(google.kEI);google.kEXPI&&(c+=\"&jexpid=\"+b(google.kEXPI));c+=\"&srcpg=\"+b(google.sn)+\"&jsr=\"+b(t.jsr)+\"&bver=\"+\\nb(t.bv);var f=a.lineNumber;void 0!==f&&(c+=\"&line=\"+f);var g=a.fileName;g&&(0<g.indexOf(\"-extension:/\")&&(e=3),c+=\"&script=\"+b(g),f&&g===window.location.href&&(f=document.documentElement.outerHTML.split(\"\\\\n\")[f],c+=\"&cad=\"+b(f?f.substring(0,300):\"No script found.\")));google.ple&&1===google.ple&&(e=2);c+=\"&jsel=\"+e;for(var u in d)c+=\"&\",c+=b(u),c+=\"=\",c+=b(d[u]);c=c+\"&emsg=\"+b(a.name+\": \"+a.message);c=c+\"&jsst=\"+b(a.stack||\"N/A\");12288<=c.length&&(c=c.substr(0,12288));a=c;m||google.log(0,\"\",a);return a};window.onerror=function(a,b,d,m,e){r!==a&&(a=e instanceof Error?e:Error(a),void 0===d||\"lineNumber\"in a||(a.lineNumber=d),void 0===b||\"fileName\"in a||(a.fileName=b),google.ml(a,!1,void 0,!1,\"SyntaxError\"===a.name||\"SyntaxError\"===a.message.substring(0,11)||-1!==a.message.indexOf(\"Script error\")?3:0));r=null;p&&q>=l&&(window.onerror=null)};})();</script></head><body bgcolor=\"#fff\"><script nonce=\"IxN1ijBJ5VAz4OrEacTrmQ\">(function(){var src=\\'/images/nav_logo229.png\\';var iesg=false;document.body.onload = function(){window.n && window.n();if (document.images){new Image().src=src;}\\nif (!iesg){document.f&&document.f.q.focus();document.gbqf&&document.gbqf.q.focus();}\\n}\\n})();</script><div id=\"mngb\"><div id=gbar><nobr><b class=gb1>Search</b> <a class=gb1 href=\"https://www.google.com/imghp?hl=en&tab=wi\">Images</a> <a class=gb1 href=\"http://maps.google.com/maps?hl=en&tab=wl\">Maps</a> <a class=gb1 href=\"https://play.google.com/?hl=en&tab=w8\">Play</a> <a class=gb1 href=\"https://www.youtube.com/?tab=w1\">YouTube</a> <a class=gb1 href=\"https://news.google.com/?tab=wn\">News</a> <a class=gb1 href=\"https://mail.google.com/mail/?tab=wm\">Gmail</a> <a class=gb1 href=\"https://drive.google.com/?tab=wo\">Drive</a> <a class=gb1 style=\"text-decoration:none\" href=\"https://www.google.com/intl/en/about/products?tab=wh\"><u>More</u> &raquo;</a></nobr></div><div id=guser width=100%><nobr><span id=gbn class=gbi></span><span id=gbf class=gbf></span><span id=gbe></span><a href=\"http://www.google.com/history/optout?hl=en\" class=gb4>Web History</a> | <a  href=\"/preferences?hl=en\" class=gb4>Settings</a> | <a target=_top id=gb_70 href=\"https://accounts.google.com/ServiceLogin?hl=en&passive=true&continue=http://www.google.com/&ec=GAZAAQ\" class=gb4>Sign in</a></nobr></div><div class=gbh style=left:0></div><div class=gbh style=right:0></div></div><center><br clear=\"all\" id=\"lgpd\"><div id=\"lga\"><img alt=\"Google\" height=\"92\" src=\"/images/branding/googlelogo/1x/googlelogo_white_background_color_272x92dp.png\" style=\"padding:28px 0 14px\" width=\"272\" id=\"hplogo\"><br><br></div><form action=\"/search\" name=\"f\"><table cellpadding=\"0\" cellspacing=\"0\"><tr valign=\"top\"><td width=\"25%\">&nbsp;</td><td align=\"center\" nowrap=\"\"><input name=\"ie\" value=\"ISO-8859-1\" type=\"hidden\"><input value=\"en\" name=\"hl\" type=\"hidden\"><input name=\"source\" type=\"hidden\" value=\"hp\"><input name=\"biw\" type=\"hidden\"><input name=\"bih\" type=\"hidden\"><div class=\"ds\" style=\"height:32px;margin:4px 0\"><input class=\"lst\" style=\"margin:0;padding:5px 8px 0 6px;vertical-align:top;color:#000\" autocomplete=\"off\" value=\"\" title=\"Google Search\" maxlength=\"2048\" name=\"q\" size=\"57\"></div><br style=\"line-height:0\"><span class=\"ds\"><span class=\"lsbb\"><input class=\"lsb\" value=\"Google Search\" name=\"btnG\" type=\"submit\"></span></span><span class=\"ds\"><span class=\"lsbb\"><input class=\"lsb\" id=\"tsuid_1\" value=\"I\\'m Feeling Lucky\" name=\"btnI\" type=\"submit\"><script nonce=\"IxN1ijBJ5VAz4OrEacTrmQ\">(function(){var id=\\'tsuid_1\\';document.getElementById(id).onclick = function(){if (this.form.q.value){this.checked = 1;if (this.form.iflsig)this.form.iflsig.disabled = false;}\\nelse top.location=\\'/doodles/\\';};})();</script><input value=\"ANes7DEAAAAAZfX6JgfeYm30j5_jLWkVHYkJ_VefrwYw\" name=\"iflsig\" type=\"hidden\"></span></span></td><td class=\"fl sblc\" align=\"left\" nowrap=\"\" width=\"25%\"><a href=\"/advanced_search?hl=en&amp;authuser=0\">Advanced search</a></td></tr></table><input id=\"gbv\" name=\"gbv\" type=\"hidden\" value=\"1\"><script nonce=\"IxN1ijBJ5VAz4OrEacTrmQ\">(function(){var a,b=\"1\";if(document&&document.getElementById)if(\"undefined\"!=typeof XMLHttpRequest)b=\"2\";else if(\"undefined\"!=typeof ActiveXObject){var c,d,e=[\"MSXML2.XMLHTTP.6.0\",\"MSXML2.XMLHTTP.3.0\",\"MSXML2.XMLHTTP\",\"Microsoft.XMLHTTP\"];for(c=0;d=e[c++];)try{new ActiveXObject(d),b=\"2\"}catch(h){}}a=b;if(\"2\"==a&&-1==location.search.indexOf(\"&gbv=2\")){var f=google.gbvu,g=document.getElementById(\"gbv\");g&&(g.value=a);f&&window.setTimeout(function(){location.href=f},0)};}).call(this);</script></form><div id=\"gac_scont\"></div><div style=\"font-size:83%;min-height:3.5em\"><br></div><span id=\"footer\"><div style=\"font-size:10pt\"><div style=\"margin:19px auto;text-align:center\" id=\"WqQANb\"><a href=\"/intl/en/ads/\">Advertising</a><a href=\"/services/\">Business Solutions</a><a href=\"/intl/en/about.html\">About Google</a></div></div><p style=\"font-size:8pt;color:#70757a\">&copy; 2024 - <a href=\"/intl/en/policies/privacy/\">Privacy</a> - <a href=\"/intl/en/policies/terms/\">Terms</a></p></span></center><script nonce=\"IxN1ijBJ5VAz4OrEacTrmQ\">(function(){window.google.cdo={height:757,width:1440};(function(){var a=window.innerWidth,b=window.innerHeight;if(!a||!b){var c=window.document,d=\"CSS1Compat\"==c.compatMode?c.documentElement:c.body;a=d.clientWidth;b=d.clientHeight}\\nif(a&&b&&(a!=google.cdo.width||b!=google.cdo.height)){var e=google,f=e.log,g=\"/client_204?&atyp=i&biw=\"+a+\"&bih=\"+b+\"&ei=\"+google.kEI,h=\"\",k=[],l=void 0!==window.google&&void 0!==window.google.kOPI&&0!==window.google.kOPI?window.google.kOPI:null;null!=l&&k.push([\"opi\",l.toString()]);for(var m=0;m<k.length;m++){if(0===m||0<m)h+=\"&\";h+=k[m][0]+\"=\"+k[m][1]}f.call(e,\"\",\"\",g+h)};}).call(this);})();</script>  <script nonce=\"IxN1ijBJ5VAz4OrEacTrmQ\">(function(){google.xjs={basecomb:\\'\\',basecss:\\'\\',basejs:\\'\\',ck:\\'xjs.hp.lOgW5jgFq9E.L.X.O\\',combam:\\'AAAAAAAAAAAAAAAAAAAAAAAAAEAAAAAAAADGAQAAgAAgAAAAgAMAAAAAAAAAAAHAQXQEAANwBAAAXg\\',cs:\\'ACT90oGu4eVwVuLn9NbtgSm6yubKdhQA5Q\\',cssam:\\'AAAAAAAAAAAAAAAAAAAAAAAAAAAAAAAAAAAAAAAAgAAgAAAAAAAAAAAAAAAAAAE\\',csss:\\'ACT90oEbaSTMFnxybnGQJc5oJnd6oYv98A\\',excm:[],jsam:\\'AAAAAAAAAAAAAAAAAAAAAAAAAEAAAAAAAADGAQAAAAAAAAAAgAMAAAAAAAAAAADAQXQEAANwBAAAXg\\',jss:\\'ACT90oFfAFW17Z12K0N1Rowkq0e1Um4Ing\\'};})();</script>    <script nonce=\"IxN1ijBJ5VAz4OrEacTrmQ\">(function(){var u=\\'/xjs/_/js/k\\\\x3dxjs.hp.en.rcA46J1VfyM.O/am\\\\x3dAAAAAAAAAAAAAAAAAAAAAAAAAEAAAAAAAADGAQAAgAAgAAAAgAMAAAAAAAAAAAHAQXQEAANwBAAAXg/d\\\\x3d1/ed\\\\x3d1/rs\\\\x3dACT90oEEbSR1UH_SqaZjUljmXWEBCKnlSw/m\\\\x3dsb_he,d\\';var amd=0;\\nvar e=this||self,f=function(a){return a};var g;var h=function(a){this.g=a};h.prototype.toString=function(){return this.g+\"\"};var k={};\\nfunction l(a,b){a.src=b instanceof h&&b.constructor===h?b.g:\"type_error:TrustedResourceUrl\";var c,d;(c=(b=null==(d=(c=(a.ownerDocument&&a.ownerDocument.defaultView||window).document).querySelector)?void 0:d.call(c,\"script[nonce]\"))?b.nonce||b.getAttribute(\"nonce\")||\"\":\"\")&&a.setAttribute(\"nonce\",c)};var m=function(){var a=document;var b=\"SCRIPT\";\"application/xhtml+xml\"===a.contentType&&(b=b.toLowerCase());return a.createElement(b)};function n(a){a=null===a?\"null\":void 0===a?\"undefined\":a;if(void 0===g){var b=null;var c=e.trustedTypes;if(c&&c.createPolicy){try{b=c.createPolicy(\"goog#html\",{createHTML:f,createScript:f,createScriptURL:f})}catch(d){e.console&&e.console.error(d.message)}g=b}else g=b}a=(b=g)?b.createScriptURL(a):a;return new h(a,k)};void 0===google.ps&&(google.ps=[]);function p(){var a=u,b=function(){};google.lx=google.stvsc?b:function(){q(a);google.lx=b};google.bx||google.lx()}function r(a,b){b&&l(a,n(b));var c=a.onload;a.onload=function(d){c&&c(d);google.ps=google.ps.filter(function(t){return a!==t})};google.ps.push(a);document.body.appendChild(a)}google.as=r;function q(a){google.timers&&google.timers.load&&google.tick&&google.tick(\"load\",\"xjsls\");var b=m();b.onerror=function(){google.ple=1};b.onload=function(){google.ple=0};google.xjsus=void 0;r(b,a);google.aple=-1;google.psa=!0};google.xjsu=u;e._F_jsUrl=u;setTimeout(function(){0<amd?google.caft(function(){return p()},amd):p()},0);})();window._ = window._ || {};window._DumpException = _._DumpException = function(e){throw e;};window._s = window._s || {};_s._DumpException = _._DumpException;window._qs = window._qs || {};_qs._DumpException = _._DumpException;(function(){var t=[1,2,0,0,0,320,536870912,737393,270532736,234881024,512,2048,29360400,201331153,18192,6016];window._F_toggles = window._xjs_toggles = t;})();function _F_installCss(c){}\\n(function(){google.jl={bfl:0,dw:false,ico:false,ikb:0,ine:false,ubm:false,uwp:true,vs:false};})();(function(){var pmc=\\'{\\\\x22d\\\\x22:{},\\\\x22sb_he\\\\x22:{\\\\x22agen\\\\x22:false,\\\\x22cgen\\\\x22:false,\\\\x22client\\\\x22:\\\\x22heirloom-hp\\\\x22,\\\\x22dh\\\\x22:true,\\\\x22ds\\\\x22:\\\\x22\\\\x22,\\\\x22fl\\\\x22:true,\\\\x22host\\\\x22:\\\\x22google.com\\\\x22,\\\\x22jsonp\\\\x22:true,\\\\x22msgs\\\\x22:{\\\\x22cibl\\\\x22:\\\\x22Clear Search\\\\x22,\\\\x22dym\\\\x22:\\\\x22Did you mean:\\\\x22,\\\\x22lcky\\\\x22:\\\\x22I\\\\\\\\u0026#39;m Feeling Lucky\\\\x22,\\\\x22lml\\\\x22:\\\\x22Learn more\\\\x22,\\\\x22psrc\\\\x22:\\\\x22This search was removed from your \\\\\\\\u003Ca href\\\\x3d\\\\\\\\\\\\x22/history\\\\\\\\\\\\x22\\\\\\\\u003EWeb History\\\\\\\\u003C/a\\\\\\\\u003E\\\\x22,\\\\x22psrl\\\\x22:\\\\x22Remove\\\\x22,\\\\x22sbit\\\\x22:\\\\x22Search by image\\\\x22,\\\\x22srch\\\\x22:\\\\x22Google Search\\\\x22},\\\\x22ovr\\\\x22:{},\\\\x22pq\\\\x22:\\\\x22\\\\x22,\\\\x22rfs\\\\x22:[],\\\\x22sbas\\\\x22:\\\\x220 3px 8px 0 rgba(0,0,0,0.2),0 0 0 1px rgba(0,0,0,0.08)\\\\x22,\\\\x22stok\\\\x22:\\\\x22fli3MdfnJpTgsSjQUKdHkdV6LDQ\\\\x22}}\\';google.pmc=JSON.parse(pmc);})();(function(){var b=function(a){var c=0;return function(){return c<a.length?{done:!1,value:a[c++]}:{done:!0}}};\\nvar e=this||self;var g,h;a:{for(var k=[\"CLOSURE_FLAGS\"],l=e,n=0;n<k.length;n++)if(l=l[k[n]],null==l){h=null;break a}h=l}var p=h&&h[610401301];g=null!=p?p:!1;var q,r=e.navigator;q=r?r.userAgentData||null:null;function t(a){return g?q?q.brands.some(function(c){return(c=c.brand)&&-1!=c.indexOf(a)}):!1:!1}function u(a){var c;a:{if(c=e.navigator)if(c=c.userAgent)break a;c=\"\"}return-1!=c.indexOf(a)};function v(){return g?!!q&&0<q.brands.length:!1}function w(){return u(\"Safari\")&&!(x()||(v()?0:u(\"Coast\"))||(v()?0:u(\"Opera\"))||(v()?0:u(\"Edge\"))||(v()?t(\"Microsoft Edge\"):u(\"Edg/\"))||(v()?t(\"Opera\"):u(\"OPR\"))||u(\"Firefox\")||u(\"FxiOS\")||u(\"Silk\")||u(\"Android\"))}function x(){return v()?t(\"Chromium\"):(u(\"Chrome\")||u(\"CriOS\"))&&!(v()?0:u(\"Edge\"))||u(\"Silk\")}function y(){return u(\"Android\")&&!(x()||u(\"Firefox\")||u(\"FxiOS\")||(v()?0:u(\"Opera\"))||u(\"Silk\"))};var z=v()?!1:u(\"Trident\")||u(\"MSIE\");y();x();w();Object.freeze(new function(){});Object.freeze(new function(){});var A=!z&&!w(),D=function(a){if(/-[a-z]/.test(\"ved\"))return null;if(A&&a.dataset){if(y()&&!(\"ved\"in a.dataset))return null;a=a.dataset.ved;return void 0===a?null:a}return a.getAttribute(\"data-\"+\"ved\".replace(/([A-Z])/g,\"-$1\").toLowerCase())};var E=[],F=null;function G(a){a=a.target;var c=performance.now(),f=[],H=f.concat,d=E;if(!(d instanceof Array)){var m=\"undefined\"!=typeof Symbol&&Symbol.iterator&&d[Symbol.iterator];if(m)d=m.call(d);else if(\"number\"==typeof d.length)d={next:b(d)};else throw Error(\"a`\"+String(d));for(var B=[];!(m=d.next()).done;)B.push(m.value);d=B}E=H.call(f,d,[c]);if(a&&a instanceof HTMLElement)if(a===F){if(c=4<=E.length)c=5>(E[E.length-1]-E[E.length-4])/1E3;if(c){c=google.getEI(a);a.hasAttribute(\"data-ved\")?f=a?D(a)||\"\":\"\":f=(f=\\na.closest(\"[data-ved]\"))?D(f)||\"\":\"\";f=f||\"\";if(a.hasAttribute(\"jsname\"))a=a.getAttribute(\"jsname\");else{var C;a=null==(C=a.closest(\"[jsname]\"))?void 0:C.getAttribute(\"jsname\")}google.log(\"rcm\",\"&ei=\"+c+\"&ved=\"+f+\"&jsname=\"+(a||\"\"))}}else F=a,E=[c]}window.document.addEventListener(\"DOMContentLoaded\",function(){document.body.addEventListener(\"click\",G)});}).call(this);</script></body></html>'"
            ]
          },
          "execution_count": 7,
          "metadata": {},
          "output_type": "execute_result"
        }
      ],
      "source": [
        "# returns the HTML format of the search page\n",
        "res.content"
      ]
    },
    {
      "cell_type": "markdown",
      "metadata": {
        "id": "7K4lW8NXLZTl"
      },
      "source": [
        "Now, we know how to retrieve the source of a webpage by utilizing `requests` library. Whenever we download a page, we can provide its raw text to a parser of our choice. In this lecture, we are going to use a library named `Beautiful Soup` to parse and store the html files."
      ]
    },
    {
      "cell_type": "markdown",
      "metadata": {
        "id": "UWBbm3tP7gtB"
      },
      "source": [
        "### Beautiful Soup: Parsing Structured Documents!\n",
        "\n",
        "[Beautiful Soup](https://www.crummy.com/software/BeautifulSoup/bs4/doc/) is a Python library for parsing HTML and XML documents. It creates a parse tree for parsed pages that can be used to extract data from HTML, which is useful for web scraping.\n",
        "\n",
        "\n",
        "Given a HTML file, our goal is to parse the content and store it in an easily accessible data structure. So, we'll store it as a document tree object. Whenever we provide an HTML content to Beautiful Soap parser as the input, it returns the root of the resulting domcument tree.\n",
        "\n",
        "``` py\n",
        "# soup is the root of the dom-tree, which is, in fact, the html tag\n",
        ">>> soup = BeautifulSoup(page.content, 'html.parser')\n",
        "```\n",
        "\n",
        "![](https://dab1nmslvvntp.cloudfront.net/wp-content/uploads/2014/10/1413373269crp-1.png)\n",
        "\n",
        "With the root of the tree is at our hands, we can extract various tags with different class or id values.\n",
        "\n",
        "``` py\n",
        "# returns the first p tag and its content\n",
        ">>> soup.find(\"p\")\n",
        "# returns all p tags stored in a list\n",
        ">>> soup.find_all(\"p\")\n",
        "# returns all p tags with class attribute set to \"tableList\"\n",
        ">>> soup.find_all(\"p\", {\"class\" : \"tableList\"})\n",
        "```\n",
        "\n",
        "One thing to pay attention is these examples is that the returned values are still nodes from the tree. They can further be queried with the above syntax.\n",
        "\n",
        "``` py\n",
        "# returns the first p tag and its content\n",
        ">>> first_p = soup.find(\"p\")\n",
        "# now, we can select the span tags placed only in first_p node\n",
        ">>> first_p.find_all(\"span\")\n",
        "```"
      ]
    },
    {
      "cell_type": "markdown",
      "metadata": {
        "id": "og3lOEcHBzgL"
      },
      "source": [
        "Now, our goal is to create the dataframe from a list of dictionaries. Each book entry will be converted into a dictionary and then stored as a row in the resulting dataframe.\n",
        "\n",
        "![](https://pbpython.com/images/pandas-dataframe-shadow.png)"
      ]
    },
    {
      "cell_type": "code",
      "execution_count": null,
      "metadata": {
        "id": "KKCPKxS8ayNI"
      },
      "outputs": [],
      "source": [
        "# importing the parser\n",
        "from bs4 import BeautifulSoup\n",
        "import re\n",
        "import time\n",
        "import pandas as pd\n",
        "from os.path import join"
      ]
    },
    {
      "cell_type": "markdown",
      "metadata": {
        "id": "09RcogaS3ksY"
      },
      "source": [
        "Now, let's start extracting data from the reading list."
      ]
    },
    {
      "cell_type": "code",
      "execution_count": null,
      "metadata": {
        "id": "xgJHN9GSSImo"
      },
      "outputs": [],
      "source": [
        "url = \"https://www.goodreads.com/list/show/264.Books_That_Everyone_Should_Read_At_Least_Once?page=1\"\n",
        "res = requests.get(url)"
      ]
    },
    {
      "cell_type": "markdown",
      "metadata": {
        "id": "MZN1H2SXTNK7"
      },
      "source": [
        "Here, we have the request response object. We can check whether the request was successfull or not with the status code."
      ]
    },
    {
      "cell_type": "code",
      "execution_count": null,
      "metadata": {
        "colab": {
          "base_uri": "https://localhost:8080/"
        },
        "id": "1JrSv9jOTW-4",
        "outputId": "757bf8da-187e-4492-cbbd-d62cce63a49a"
      },
      "outputs": [
        {
          "data": {
            "text/plain": [
              "200"
            ]
          },
          "execution_count": 10,
          "metadata": {},
          "output_type": "execute_result"
        }
      ],
      "source": [
        "# success\n",
        "res.status_code"
      ]
    },
    {
      "cell_type": "markdown",
      "metadata": {
        "id": "rFv1jdtsTauL"
      },
      "source": [
        "To parse the document into a tree, we need to obtain its content and provide it as an input to Beautiful Soup."
      ]
    },
    {
      "cell_type": "code",
      "execution_count": null,
      "metadata": {
        "id": "V42CTAuqTsPg"
      },
      "outputs": [],
      "source": [
        "soup = BeautifulSoup(res.content, \"html.parser\")"
      ]
    },
    {
      "cell_type": "code",
      "execution_count": null,
      "metadata": {
        "colab": {
          "base_uri": "https://localhost:8080/",
          "height": 187
        },
        "id": "TH1cYTG8Tzvm",
        "outputId": "bd288c24-7f8e-4d91-d9c4-21f52bcfe980"
      },
      "outputs": [
        {
          "data": {
            "text/html": [
              "<div style=\"max-width:800px; border: 1px solid var(--colab-border-color);\"><style>\n",
              "      pre.function-repr-contents {\n",
              "        overflow-x: auto;\n",
              "        padding: 8px 12px;\n",
              "        max-height: 500px;\n",
              "      }\n",
              "\n",
              "      pre.function-repr-contents.function-repr-contents-collapsed {\n",
              "        cursor: pointer;\n",
              "        max-height: 100px;\n",
              "      }\n",
              "    </style>\n",
              "    <pre style=\"white-space: initial; background:\n",
              "         var(--colab-secondary-surface-color); padding: 8px 12px;\n",
              "         border-bottom: 1px solid var(--colab-border-color);\"><b>bs4.BeautifulSoup</b><br/>def __call__(*args, **kwargs)</pre><pre class=\"function-repr-contents function-repr-contents-collapsed\" style=\"\"><a class=\"filepath\" style=\"display:none\" href=\"#\">/usr/local/lib/python3.10/dist-packages/bs4/__init__.py</a>A data structure representing a parsed HTML or XML document.\n",
              "\n",
              "Most of the methods you&#x27;ll call on a BeautifulSoup object are inherited from\n",
              "PageElement or Tag.\n",
              "\n",
              "Internally, this class defines the basic interface called by the\n",
              "tree builders when converting an HTML/XML document into a data\n",
              "structure. The interface abstracts away the differences between\n",
              "parsers. To write a new tree builder, you&#x27;ll need to understand\n",
              "these methods as a whole.\n",
              "\n",
              "These methods will be called by the BeautifulSoup constructor:\n",
              "  * reset()\n",
              "  * feed(markup)\n",
              "\n",
              "The tree builder may call these methods from its feed() implementation:\n",
              "  * handle_starttag(name, attrs) # See note about return value\n",
              "  * handle_endtag(name)\n",
              "  * handle_data(data) # Appends to the current data node\n",
              "  * endData(containerClass) # Ends the current data node\n",
              "\n",
              "No matter how complicated the underlying parser is, you should be\n",
              "able to build a tree using &#x27;start tag&#x27; events, &#x27;end tag&#x27; events,\n",
              "&#x27;data&#x27; events, and &quot;done with data&quot; events.\n",
              "\n",
              "If you encounter an empty-element tag (aka a self-closing tag,\n",
              "like HTML&#x27;s &lt;br&gt; tag), call handle_starttag and then\n",
              "handle_endtag.</pre>\n",
              "      <script>\n",
              "      if (google.colab.kernel.accessAllowed && google.colab.files && google.colab.files.view) {\n",
              "        for (const element of document.querySelectorAll('.filepath')) {\n",
              "          element.style.display = 'block'\n",
              "          element.onclick = (event) => {\n",
              "            event.preventDefault();\n",
              "            event.stopPropagation();\n",
              "            google.colab.files.view(element.textContent, 76);\n",
              "          };\n",
              "        }\n",
              "      }\n",
              "      for (const element of document.querySelectorAll('.function-repr-contents')) {\n",
              "        element.onclick = (event) => {\n",
              "          event.preventDefault();\n",
              "          event.stopPropagation();\n",
              "          element.classList.toggle('function-repr-contents-collapsed');\n",
              "        };\n",
              "      }\n",
              "      </script>\n",
              "      </div>"
            ],
            "text/plain": [
              "bs4.BeautifulSoup"
            ]
          },
          "execution_count": 12,
          "metadata": {},
          "output_type": "execute_result"
        }
      ],
      "source": [
        "type(soup)"
      ]
    },
    {
      "cell_type": "markdown",
      "metadata": {
        "id": "CyLoQfkJUAp0"
      },
      "source": [
        "Now, to get the table where our data is stored, we need to find it with its class value."
      ]
    },
    {
      "cell_type": "code",
      "execution_count": null,
      "metadata": {
        "id": "O426LxBLULF-"
      },
      "outputs": [],
      "source": [
        "# tag attributes are passed a dict object\n",
        "table = soup.find(\"table\", {\"class\": \"tableList\"})"
      ]
    },
    {
      "cell_type": "markdown",
      "metadata": {
        "id": "u-5uMl3xVKqV"
      },
      "source": [
        "We know that book entries are stored in `tr` tags in which each `td` tag contains a property of the selected book, such as title and rating.\n",
        "\n",
        "In order to retrieve each book entry, we need to find all `tr` tags stored in the table. Then, to extract the book properties, we need to select the third `td`."
      ]
    },
    {
      "cell_type": "code",
      "execution_count": null,
      "metadata": {
        "colab": {
          "base_uri": "https://localhost:8080/"
        },
        "id": "CZchQeB7V7vt",
        "outputId": "ecb1bda0-b0e5-4d77-8630-41700d35deae"
      },
      "outputs": [
        {
          "name": "stdout",
          "output_type": "stream",
          "text": [
            "<td valign=\"top\" width=\"100%\">\n",
            "<a class=\"bookTitle\" href=\"/book/show/2657.To_Kill_a_Mockingbird\" itemprop=\"url\">\n",
            "<span aria-level=\"4\" itemprop=\"name\" role=\"heading\">To Kill a Mockingbird</span>\n",
            "</a> <br>\n",
            "<span class=\"by\">by</span>\n",
            "<span itemprop=\"author\" itemscope=\"\" itemtype=\"http://schema.org/Person\">\n",
            "<div class=\"authorName__container\">\n",
            "<a class=\"authorName\" href=\"https://www.goodreads.com/author/show/1825.Harper_Lee\" itemprop=\"url\"><span itemprop=\"name\">Harper Lee</span></a>\n",
            "</div>\n",
            "</span>\n",
            "<br/>\n",
            "<div>\n",
            "<span class=\"greyText smallText uitext\">\n",
            "<span class=\"minirating\"><span class=\"stars staticStars notranslate\"><span class=\"staticStar p10\" size=\"12x12\"></span><span class=\"staticStar p10\" size=\"12x12\"></span><span class=\"staticStar p10\" size=\"12x12\"></span><span class=\"staticStar p10\" size=\"12x12\"></span><span class=\"staticStar p3\" size=\"12x12\"></span></span> 4.26 avg rating — 6,089,980 ratings</span>\n",
            "</span>\n",
            "</div>\n",
            "<div style=\"margin-top: 5px\">\n",
            "<span class=\"smallText uitext\">\n",
            "<a href=\"#\" onclick=\"Lightbox.showBoxByID('score_explanation', 300); return false;\">score: 2,428,585</a>,\n",
            "              <span class=\"greyText\">and</span>\n",
            "<a href=\"#\" id=\"loading_link_685721\" onclick=\"new Ajax.Request('/list/list_book/6011590', {asynchronous:true, evalScripts:true, onFailure:function(request){Element.hide('loading_anim_685721');$('loading_link_685721').innerHTML = '&lt;span class=&quot;error&quot;&gt;ERROR&lt;/span&gt;try again';$('loading_link_685721').show();;Element.hide('loading_anim_685721');}, onLoading:function(request){;Element.show('loading_anim_685721');Element.hide('loading_link_685721')}, onSuccess:function(request){Element.hide('loading_anim_685721');Element.show('loading_link_685721');}, parameters:'authenticity_token=' + encodeURIComponent('Dg7XIM+HcRX4pBS3FAK/k3RKHsv58CsLGhszbd6x9X18k6yiznnCDmGfPJ+JAMbyN4WwqQulEwk9lZxutCYhjA==')}); return false;\">24,617 people voted</a><img alt=\"Loading trans\" class=\"loading\" id=\"loading_anim_685721\" src=\"https://s.gr-assets.com/assets/loading-trans-ced157046184c3bc7c180ffbfc6825a4.gif\" style=\"display:none\"/>\n",
            "               \n",
            "              \n",
            "            </span>\n",
            "</div>\n",
            "</br></td>\n"
          ]
        }
      ],
      "source": [
        "entries = table.find_all(\"tr\")\n",
        "\n",
        "for entry in entries:\n",
        "\n",
        "  # find the third td\n",
        "  properties = entry.find_all(\"td\")[2]\n",
        "\n",
        "  print(properties)\n",
        "\n",
        "  # not to print all of them\n",
        "  break"
      ]
    },
    {
      "cell_type": "markdown",
      "metadata": {
        "id": "5Zu9h2Y9WcFz"
      },
      "source": [
        "Everythin we need for a particular book is up there!\n",
        "\n",
        "For text values such as title and author name, all we have to do is just find the contained tag and then call the `get_text` function on the selected tag. For instance, to get the book title, we can execute the cell below."
      ]
    },
    {
      "cell_type": "code",
      "execution_count": null,
      "metadata": {
        "colab": {
          "base_uri": "https://localhost:8080/"
        },
        "id": "ercieT7rW0yB",
        "outputId": "86a55945-c1a9-44d7-cd90-872570572aea"
      },
      "outputs": [
        {
          "name": "stdout",
          "output_type": "stream",
          "text": [
            "\n",
            "To Kill a Mockingbird\n",
            "\n"
          ]
        }
      ],
      "source": [
        "entries = table.find_all(\"tr\")\n",
        "\n",
        "for entry in entries:\n",
        "\n",
        "  # find the third td\n",
        "  properties = entry.find_all(\"td\")[2]\n",
        "\n",
        "  print(properties.find(\"a\", {\"class\": \"bookTitle\"}).get_text())\n",
        "\n",
        "  # not to print all of them\n",
        "  break"
      ]
    },
    {
      "cell_type": "markdown",
      "metadata": {
        "id": "EtXXm482XCIs"
      },
      "source": [
        "Extracting the text values seem easy. However, we have float values with varying lengths in the table. For sure, we can obtain these values with complex string operations. However, we can achive the same and even better results with single-line regex rules.\n",
        "\n",
        "#### Regex\n",
        "\n",
        "A regular expression (regex or regexp for short) is a special text string for describing a search pattern. For instance, the following regex rule helps us extract email addresses from a text source.\n",
        "\n",
        "> [A-Z0-9._%+-]+@[A-Z0-9.-]+\\.[A-Z]{2,6}\n",
        "\n",
        "It look quite complicated, but in time, you'll get along with the syntax. Below, you may find some of the available characters that help you build regex rules.\n",
        "\n",
        "![](https://www.optimizesmart.com/wp-content/uploads/2010/06/regex-cheatsheet-for-Google-Analytics1.jpg)\n",
        "\n",
        "In Python, we have a library named  `re` for regex operations."
      ]
    },
    {
      "cell_type": "code",
      "execution_count": null,
      "metadata": {
        "id": "wFJU1wrOb7cP"
      },
      "outputs": [],
      "source": [
        "# regex library\n",
        "import re"
      ]
    },
    {
      "cell_type": "code",
      "execution_count": null,
      "metadata": {
        "colab": {
          "base_uri": "https://localhost:8080/"
        },
        "id": "PwWcoBUYcJom",
        "outputId": "49d9c9a0-38c8-4100-b3f2-4a15532a3bc1"
      },
      "outputs": [
        {
          "data": {
            "text/plain": [
              "<re.Match object; span=(0, 5), match='abyss'>"
            ]
          },
          "execution_count": 17,
          "metadata": {},
          "output_type": "execute_result"
        }
      ],
      "source": [
        "# character \"a\" at the start of the line\n",
        "# then, any 3 characters except the new line\n",
        "# character \"s\" at the end of the line\n",
        "pattern = '^a...s$'\n",
        "test_string = 'abyss'\n",
        "result = re.match(pattern, test_string)\n",
        "result"
      ]
    },
    {
      "cell_type": "code",
      "execution_count": null,
      "metadata": {
        "colab": {
          "base_uri": "https://localhost:8080/"
        },
        "id": "cdlkaqMlclD7",
        "outputId": "e7f39af2-54a4-49da-e72d-54a1563901eb"
      },
      "outputs": [
        {
          "data": {
            "text/plain": [
              "['and', 'are', 'escape', 'sequences']"
            ]
          },
          "execution_count": 18,
          "metadata": {},
          "output_type": "execute_result"
        }
      ],
      "source": [
        "sentence = '\\n and \\r are escape sequences .'\n",
        "# 1 or more occurrences of alphanumeric characters (i.e words)\n",
        "pattern = r'\\w+'\n",
        "result = re.findall(pattern, sentence)\n",
        "# matching substrings in list\n",
        "result"
      ]
    },
    {
      "cell_type": "markdown",
      "metadata": {
        "id": "Y2MQm4FcdfZU"
      },
      "source": [
        "### Parsing Cont'd\n",
        "\n",
        "Now back to goodreads.\n",
        "\n",
        "Now, let's write a regex rule to diretly obtain the ratings from a text. First, we need to locate the text, of course."
      ]
    },
    {
      "cell_type": "code",
      "execution_count": null,
      "metadata": {
        "colab": {
          "base_uri": "https://localhost:8080/"
        },
        "id": "aQOIteCcdpAL",
        "outputId": "60e8a83c-a80c-4686-83cf-c969800b0ffe"
      },
      "outputs": [
        {
          "name": "stdout",
          "output_type": "stream",
          "text": [
            "raw text\n",
            " 4.26 avg rating — 6,089,980 ratings\n",
            "result\n",
            "('4.26', '6,089,980', '98')\n"
          ]
        }
      ],
      "source": [
        "entries = table.find_all(\"tr\")\n",
        "\n",
        "for entry in entries:\n",
        "\n",
        "  # find the third td\n",
        "  properties = entry.find_all(\"td\")[2]\n",
        "\n",
        "  print(\"raw text\")\n",
        "  text = properties.find(\"span\", {\"class\": \"minirating\"}).get_text()\n",
        "  print(text)\n",
        "\n",
        "  print(\"result\")\n",
        "  # \\d for digits\n",
        "  # with paranthesis we have groupings\n",
        "  # (\\d+\\.+\\d+) -> one or more digits followed by a dot and then one or more digits\n",
        "  # .+? -> . (dot) represents any character except new line,\n",
        "  # one or more characters - +? provides lazy matching\n",
        "  # ((\\d+,?)+\\d) -> (\\d+,?)+ one or more digits followed by none or one comma\n",
        "  # with the outer plus, the previous pattern is repeated at least once\n",
        "  # and lastly, \\d is there to make sure that value ends with a digit not a comma\n",
        "  search_res = re.search(r\"(\\d+\\.+\\d+).+?((\\d+,?)+\\d)\", text).groups()\n",
        "  # .groups() returns the resulting groups enclosed by paranthesis\n",
        "  print(search_res)\n",
        "\n",
        "\n",
        "  # not to print all of them\n",
        "  break"
      ]
    },
    {
      "cell_type": "markdown",
      "metadata": {
        "id": "r1FH6QKBfy49"
      },
      "source": [
        "### Extract All Pages\n",
        "\n",
        "At this point, we can merge all the extracted properties and form a dataframe. Just repeat all the process for each page in the website."
      ]
    },
    {
      "cell_type": "code",
      "execution_count": null,
      "metadata": {
        "id": "ZHW3M2PKfsGT"
      },
      "outputs": [],
      "source": [
        "# base url for the website\n",
        "# at the end of the url we have curly brackets\n",
        "# to fill with page numbers\n",
        "base_url = \"https://www.goodreads.com/list/show/264.Books_That_Everyone_Should_Read_At_Least_Once?page={}\"\n",
        "# we'll retrieve 10 pages\n",
        "num_pages = 10"
      ]
    },
    {
      "cell_type": "code",
      "execution_count": null,
      "metadata": {
        "colab": {
          "base_uri": "https://localhost:8080/"
        },
        "id": "tXGwLMVW4z9t",
        "outputId": "50cdbab3-2bf1-4f0e-c2fc-1e8cdf0d0313"
      },
      "outputs": [
        {
          "name": "stdout",
          "output_type": "stream",
          "text": [
            "page 1 is parsed!\n",
            "page 2 is parsed!\n",
            "page 3 is parsed!\n",
            "page 4 is parsed!\n",
            "page 5 is parsed!\n",
            "page 6 is parsed!\n",
            "page 7 is parsed!\n",
            "page 8 is parsed!\n",
            "page 9 is parsed!\n",
            "page 10 is parsed!\n"
          ]
        }
      ],
      "source": [
        "# list of dictionaries\n",
        "rows = []\n",
        "\n",
        "for page in range(1, num_pages+1):\n",
        "  # retrieve the web page\n",
        "  response = requests.get(base_url.format(page))\n",
        "  # parse the html content\n",
        "  soup = BeautifulSoup(response.content, 'html.parser')\n",
        "\n",
        "  # find the table\n",
        "  table = soup.find(\"table\", {\"class\": \"tableList\"})\n",
        "  # retrieve all book entries\n",
        "  book_entries = table.find_all(\"tr\")\n",
        "\n",
        "  for entry in book_entries:\n",
        "    # index 2 corresponds to info section\n",
        "    book_info = entry.find_all(\"td\")[2]\n",
        "\n",
        "    # select and slice book title\n",
        "    title_sec = book_info.find(\"a\", {\"class\": \"bookTitle\"})\n",
        "    book_url = title_sec.get(\"href\")\n",
        "    book_title = title_sec.get_text()\n",
        "\n",
        "    # author info section\n",
        "    author_sec = book_info.find(\"a\", {\"class\": \"authorName\"})\n",
        "    author_url = author_sec.get(\"href\")\n",
        "    author_name = author_sec.get_text()\n",
        "\n",
        "    # ratings with regex selection\n",
        "    ratings = book_info.find(\"span\", {\"class\": \"minirating\"}).get_text()\n",
        "    search_res = re.search(r\"(\\d+\\.+\\d+).+?((\\d+,?)+\\d)\", ratings).groups()\n",
        "    avg_rating = search_res[0]\n",
        "    num_ratings = search_res[1]\n",
        "\n",
        "    # the regex with a different method\n",
        "    scores = book_info.find_all(\"div\")[-1].get_text()\n",
        "    score_dist = re.findall(r\"((\\d+,?)+\\d)\", scores)\n",
        "    score = score_dist[0][0]\n",
        "    score_users = score_dist[1][0]\n",
        "\n",
        "    # create the row as a dict\n",
        "    row = {\n",
        "        \"book_url\": book_url,\n",
        "        \"book_title\": book_title,\n",
        "        \"author_url\": author_url,\n",
        "        \"author_name\": author_name,\n",
        "        \"avg_rating\": avg_rating,\n",
        "        \"num_ratings\": num_ratings,\n",
        "        \"score\": score,\n",
        "        \"score_users\": score_users\n",
        "    }\n",
        "\n",
        "    # appending to the list\n",
        "    rows.append(row)\n",
        "\n",
        "  print(\"page {} is parsed!\".format(page))\n",
        "\n",
        "  # idle time between requests\n",
        "  time.sleep(1)"
      ]
    },
    {
      "cell_type": "code",
      "execution_count": null,
      "metadata": {
        "colab": {
          "base_uri": "https://localhost:8080/",
          "height": 206
        },
        "id": "7ctd0aOmQKDa",
        "outputId": "64e1337f-af1b-4b2b-cbf0-9d770034f632"
      },
      "outputs": [
        {
          "data": {
            "application/vnd.google.colaboratory.intrinsic+json": {
              "summary": "{\n  \"name\": \"df\",\n  \"rows\": 1000,\n  \"fields\": [\n    {\n      \"column\": \"book_url\",\n      \"properties\": {\n        \"dtype\": \"string\",\n        \"num_unique_values\": 1000,\n        \"samples\": [\n          \"/book/show/37470.The_Other_Boleyn_Girl\",\n          \"/book/show/77566.Hyperion\",\n          \"/book/show/14866.Nineteen_Minutes\"\n        ],\n        \"semantic_type\": \"\",\n        \"description\": \"\"\n      }\n    },\n    {\n      \"column\": \"book_title\",\n      \"properties\": {\n        \"dtype\": \"string\",\n        \"num_unique_values\": 998,\n        \"samples\": [\n          \"\\nWhite Oleander\\n\",\n          \"\\nLost in Yaba: Down and Out in Laos\\n\",\n          \"\\nThe Mists of Avalon (Avalon, #1)\\n\"\n        ],\n        \"semantic_type\": \"\",\n        \"description\": \"\"\n      }\n    },\n    {\n      \"column\": \"author_url\",\n      \"properties\": {\n        \"dtype\": \"string\",\n        \"num_unique_values\": 686,\n        \"samples\": [\n          \"https://www.goodreads.com/author/show/28186.Anthony_Doerr\",\n          \"https://www.goodreads.com/author/show/19634223.Michael_Zboray\",\n          \"https://www.goodreads.com/author/show/57639.Thomas_Paine\"\n        ],\n        \"semantic_type\": \"\",\n        \"description\": \"\"\n      }\n    },\n    {\n      \"column\": \"author_name\",\n      \"properties\": {\n        \"dtype\": \"string\",\n        \"num_unique_values\": 686,\n        \"samples\": [\n          \"Anthony Doerr\",\n          \"Michael Zboray\",\n          \"Thomas Paine\"\n        ],\n        \"semantic_type\": \"\",\n        \"description\": \"\"\n      }\n    },\n    {\n      \"column\": \"avg_rating\",\n      \"properties\": {\n        \"dtype\": \"category\",\n        \"num_unique_values\": 123,\n        \"samples\": [\n          \"4.20\",\n          \"4.09\",\n          \"4.10\"\n        ],\n        \"semantic_type\": \"\",\n        \"description\": \"\"\n      }\n    },\n    {\n      \"column\": \"num_ratings\",\n      \"properties\": {\n        \"dtype\": \"string\",\n        \"num_unique_values\": 996,\n        \"samples\": [\n          \"5,496\",\n          \"97,794\",\n          \"528,753\"\n        ],\n        \"semantic_type\": \"\",\n        \"description\": \"\"\n      }\n    },\n    {\n      \"column\": \"score\",\n      \"properties\": {\n        \"dtype\": \"string\",\n        \"num_unique_values\": 970,\n        \"samples\": [\n          \"6,552\",\n          \"28,505\",\n          \"14,145\"\n        ],\n        \"semantic_type\": \"\",\n        \"description\": \"\"\n      }\n    },\n    {\n      \"column\": \"score_users\",\n      \"properties\": {\n        \"dtype\": \"category\",\n        \"num_unique_values\": 485,\n        \"samples\": [\n          \"103\",\n          \"40\",\n          \"664\"\n        ],\n        \"semantic_type\": \"\",\n        \"description\": \"\"\n      }\n    }\n  ]\n}",
              "type": "dataframe",
              "variable_name": "df"
            },
            "text/html": [
              "\n",
              "  <div id=\"df-3bc7c907-76b5-47ab-8c33-a31311521cce\" class=\"colab-df-container\">\n",
              "    <div>\n",
              "<style scoped>\n",
              "    .dataframe tbody tr th:only-of-type {\n",
              "        vertical-align: middle;\n",
              "    }\n",
              "\n",
              "    .dataframe tbody tr th {\n",
              "        vertical-align: top;\n",
              "    }\n",
              "\n",
              "    .dataframe thead th {\n",
              "        text-align: right;\n",
              "    }\n",
              "</style>\n",
              "<table border=\"1\" class=\"dataframe\">\n",
              "  <thead>\n",
              "    <tr style=\"text-align: right;\">\n",
              "      <th></th>\n",
              "      <th>book_url</th>\n",
              "      <th>book_title</th>\n",
              "      <th>author_url</th>\n",
              "      <th>author_name</th>\n",
              "      <th>avg_rating</th>\n",
              "      <th>num_ratings</th>\n",
              "      <th>score</th>\n",
              "      <th>score_users</th>\n",
              "    </tr>\n",
              "  </thead>\n",
              "  <tbody>\n",
              "    <tr>\n",
              "      <th>0</th>\n",
              "      <td>/book/show/2657.To_Kill_a_Mockingbird</td>\n",
              "      <td>\\nTo Kill a Mockingbird\\n</td>\n",
              "      <td>https://www.goodreads.com/author/show/1825.Har...</td>\n",
              "      <td>Harper Lee</td>\n",
              "      <td>4.26</td>\n",
              "      <td>6,089,980</td>\n",
              "      <td>2,428,585</td>\n",
              "      <td>24,617</td>\n",
              "    </tr>\n",
              "    <tr>\n",
              "      <th>1</th>\n",
              "      <td>/book/show/1885.Pride_and_Prejudice</td>\n",
              "      <td>\\nPride and Prejudice\\n</td>\n",
              "      <td>https://www.goodreads.com/author/show/1265.Jan...</td>\n",
              "      <td>Jane Austen</td>\n",
              "      <td>4.29</td>\n",
              "      <td>4,246,751</td>\n",
              "      <td>1,511,539</td>\n",
              "      <td>15,479</td>\n",
              "    </tr>\n",
              "    <tr>\n",
              "      <th>2</th>\n",
              "      <td>/book/show/48855.The_Diary_of_a_Young_Girl</td>\n",
              "      <td>\\nThe Diary of a Young Girl\\n</td>\n",
              "      <td>https://www.goodreads.com/author/show/3720.Ann...</td>\n",
              "      <td>Anne Frank</td>\n",
              "      <td>4.19</td>\n",
              "      <td>3,712,297</td>\n",
              "      <td>1,441,732</td>\n",
              "      <td>14,764</td>\n",
              "    </tr>\n",
              "    <tr>\n",
              "      <th>3</th>\n",
              "      <td>/book/show/3.Harry_Potter_and_the_Sorcerer_s_S...</td>\n",
              "      <td>\\nHarry Potter and the Sorcerer's Stone (Harry...</td>\n",
              "      <td>https://www.goodreads.com/author/show/1077326....</td>\n",
              "      <td>J.K. Rowling</td>\n",
              "      <td>4.47</td>\n",
              "      <td>9,994,242</td>\n",
              "      <td>1,132,411</td>\n",
              "      <td>11,572</td>\n",
              "    </tr>\n",
              "    <tr>\n",
              "      <th>4</th>\n",
              "      <td>/book/show/170448.Animal_Farm</td>\n",
              "      <td>\\nAnimal Farm\\n</td>\n",
              "      <td>https://www.goodreads.com/author/show/3706.Geo...</td>\n",
              "      <td>George Orwell</td>\n",
              "      <td>3.99</td>\n",
              "      <td>3,859,504</td>\n",
              "      <td>1,086,840</td>\n",
              "      <td>11,258</td>\n",
              "    </tr>\n",
              "  </tbody>\n",
              "</table>\n",
              "</div>\n",
              "    <div class=\"colab-df-buttons\">\n",
              "\n",
              "  <div class=\"colab-df-container\">\n",
              "    <button class=\"colab-df-convert\" onclick=\"convertToInteractive('df-3bc7c907-76b5-47ab-8c33-a31311521cce')\"\n",
              "            title=\"Convert this dataframe to an interactive table.\"\n",
              "            style=\"display:none;\">\n",
              "\n",
              "  <svg xmlns=\"http://www.w3.org/2000/svg\" height=\"24px\" viewBox=\"0 -960 960 960\">\n",
              "    <path d=\"M120-120v-720h720v720H120Zm60-500h600v-160H180v160Zm220 220h160v-160H400v160Zm0 220h160v-160H400v160ZM180-400h160v-160H180v160Zm440 0h160v-160H620v160ZM180-180h160v-160H180v160Zm440 0h160v-160H620v160Z\"/>\n",
              "  </svg>\n",
              "    </button>\n",
              "\n",
              "  <style>\n",
              "    .colab-df-container {\n",
              "      display:flex;\n",
              "      gap: 12px;\n",
              "    }\n",
              "\n",
              "    .colab-df-convert {\n",
              "      background-color: #E8F0FE;\n",
              "      border: none;\n",
              "      border-radius: 50%;\n",
              "      cursor: pointer;\n",
              "      display: none;\n",
              "      fill: #1967D2;\n",
              "      height: 32px;\n",
              "      padding: 0 0 0 0;\n",
              "      width: 32px;\n",
              "    }\n",
              "\n",
              "    .colab-df-convert:hover {\n",
              "      background-color: #E2EBFA;\n",
              "      box-shadow: 0px 1px 2px rgba(60, 64, 67, 0.3), 0px 1px 3px 1px rgba(60, 64, 67, 0.15);\n",
              "      fill: #174EA6;\n",
              "    }\n",
              "\n",
              "    .colab-df-buttons div {\n",
              "      margin-bottom: 4px;\n",
              "    }\n",
              "\n",
              "    [theme=dark] .colab-df-convert {\n",
              "      background-color: #3B4455;\n",
              "      fill: #D2E3FC;\n",
              "    }\n",
              "\n",
              "    [theme=dark] .colab-df-convert:hover {\n",
              "      background-color: #434B5C;\n",
              "      box-shadow: 0px 1px 3px 1px rgba(0, 0, 0, 0.15);\n",
              "      filter: drop-shadow(0px 1px 2px rgba(0, 0, 0, 0.3));\n",
              "      fill: #FFFFFF;\n",
              "    }\n",
              "  </style>\n",
              "\n",
              "    <script>\n",
              "      const buttonEl =\n",
              "        document.querySelector('#df-3bc7c907-76b5-47ab-8c33-a31311521cce button.colab-df-convert');\n",
              "      buttonEl.style.display =\n",
              "        google.colab.kernel.accessAllowed ? 'block' : 'none';\n",
              "\n",
              "      async function convertToInteractive(key) {\n",
              "        const element = document.querySelector('#df-3bc7c907-76b5-47ab-8c33-a31311521cce');\n",
              "        const dataTable =\n",
              "          await google.colab.kernel.invokeFunction('convertToInteractive',\n",
              "                                                    [key], {});\n",
              "        if (!dataTable) return;\n",
              "\n",
              "        const docLinkHtml = 'Like what you see? Visit the ' +\n",
              "          '<a target=\"_blank\" href=https://colab.research.google.com/notebooks/data_table.ipynb>data table notebook</a>'\n",
              "          + ' to learn more about interactive tables.';\n",
              "        element.innerHTML = '';\n",
              "        dataTable['output_type'] = 'display_data';\n",
              "        await google.colab.output.renderOutput(dataTable, element);\n",
              "        const docLink = document.createElement('div');\n",
              "        docLink.innerHTML = docLinkHtml;\n",
              "        element.appendChild(docLink);\n",
              "      }\n",
              "    </script>\n",
              "  </div>\n",
              "\n",
              "\n",
              "<div id=\"df-54930268-9355-43b8-8717-4dbb631d5798\">\n",
              "  <button class=\"colab-df-quickchart\" onclick=\"quickchart('df-54930268-9355-43b8-8717-4dbb631d5798')\"\n",
              "            title=\"Suggest charts\"\n",
              "            style=\"display:none;\">\n",
              "\n",
              "<svg xmlns=\"http://www.w3.org/2000/svg\" height=\"24px\"viewBox=\"0 0 24 24\"\n",
              "     width=\"24px\">\n",
              "    <g>\n",
              "        <path d=\"M19 3H5c-1.1 0-2 .9-2 2v14c0 1.1.9 2 2 2h14c1.1 0 2-.9 2-2V5c0-1.1-.9-2-2-2zM9 17H7v-7h2v7zm4 0h-2V7h2v10zm4 0h-2v-4h2v4z\"/>\n",
              "    </g>\n",
              "</svg>\n",
              "  </button>\n",
              "\n",
              "<style>\n",
              "  .colab-df-quickchart {\n",
              "      --bg-color: #E8F0FE;\n",
              "      --fill-color: #1967D2;\n",
              "      --hover-bg-color: #E2EBFA;\n",
              "      --hover-fill-color: #174EA6;\n",
              "      --disabled-fill-color: #AAA;\n",
              "      --disabled-bg-color: #DDD;\n",
              "  }\n",
              "\n",
              "  [theme=dark] .colab-df-quickchart {\n",
              "      --bg-color: #3B4455;\n",
              "      --fill-color: #D2E3FC;\n",
              "      --hover-bg-color: #434B5C;\n",
              "      --hover-fill-color: #FFFFFF;\n",
              "      --disabled-bg-color: #3B4455;\n",
              "      --disabled-fill-color: #666;\n",
              "  }\n",
              "\n",
              "  .colab-df-quickchart {\n",
              "    background-color: var(--bg-color);\n",
              "    border: none;\n",
              "    border-radius: 50%;\n",
              "    cursor: pointer;\n",
              "    display: none;\n",
              "    fill: var(--fill-color);\n",
              "    height: 32px;\n",
              "    padding: 0;\n",
              "    width: 32px;\n",
              "  }\n",
              "\n",
              "  .colab-df-quickchart:hover {\n",
              "    background-color: var(--hover-bg-color);\n",
              "    box-shadow: 0 1px 2px rgba(60, 64, 67, 0.3), 0 1px 3px 1px rgba(60, 64, 67, 0.15);\n",
              "    fill: var(--button-hover-fill-color);\n",
              "  }\n",
              "\n",
              "  .colab-df-quickchart-complete:disabled,\n",
              "  .colab-df-quickchart-complete:disabled:hover {\n",
              "    background-color: var(--disabled-bg-color);\n",
              "    fill: var(--disabled-fill-color);\n",
              "    box-shadow: none;\n",
              "  }\n",
              "\n",
              "  .colab-df-spinner {\n",
              "    border: 2px solid var(--fill-color);\n",
              "    border-color: transparent;\n",
              "    border-bottom-color: var(--fill-color);\n",
              "    animation:\n",
              "      spin 1s steps(1) infinite;\n",
              "  }\n",
              "\n",
              "  @keyframes spin {\n",
              "    0% {\n",
              "      border-color: transparent;\n",
              "      border-bottom-color: var(--fill-color);\n",
              "      border-left-color: var(--fill-color);\n",
              "    }\n",
              "    20% {\n",
              "      border-color: transparent;\n",
              "      border-left-color: var(--fill-color);\n",
              "      border-top-color: var(--fill-color);\n",
              "    }\n",
              "    30% {\n",
              "      border-color: transparent;\n",
              "      border-left-color: var(--fill-color);\n",
              "      border-top-color: var(--fill-color);\n",
              "      border-right-color: var(--fill-color);\n",
              "    }\n",
              "    40% {\n",
              "      border-color: transparent;\n",
              "      border-right-color: var(--fill-color);\n",
              "      border-top-color: var(--fill-color);\n",
              "    }\n",
              "    60% {\n",
              "      border-color: transparent;\n",
              "      border-right-color: var(--fill-color);\n",
              "    }\n",
              "    80% {\n",
              "      border-color: transparent;\n",
              "      border-right-color: var(--fill-color);\n",
              "      border-bottom-color: var(--fill-color);\n",
              "    }\n",
              "    90% {\n",
              "      border-color: transparent;\n",
              "      border-bottom-color: var(--fill-color);\n",
              "    }\n",
              "  }\n",
              "</style>\n",
              "\n",
              "  <script>\n",
              "    async function quickchart(key) {\n",
              "      const quickchartButtonEl =\n",
              "        document.querySelector('#' + key + ' button');\n",
              "      quickchartButtonEl.disabled = true;  // To prevent multiple clicks.\n",
              "      quickchartButtonEl.classList.add('colab-df-spinner');\n",
              "      try {\n",
              "        const charts = await google.colab.kernel.invokeFunction(\n",
              "            'suggestCharts', [key], {});\n",
              "      } catch (error) {\n",
              "        console.error('Error during call to suggestCharts:', error);\n",
              "      }\n",
              "      quickchartButtonEl.classList.remove('colab-df-spinner');\n",
              "      quickchartButtonEl.classList.add('colab-df-quickchart-complete');\n",
              "    }\n",
              "    (() => {\n",
              "      let quickchartButtonEl =\n",
              "        document.querySelector('#df-54930268-9355-43b8-8717-4dbb631d5798 button');\n",
              "      quickchartButtonEl.style.display =\n",
              "        google.colab.kernel.accessAllowed ? 'block' : 'none';\n",
              "    })();\n",
              "  </script>\n",
              "</div>\n",
              "    </div>\n",
              "  </div>\n"
            ],
            "text/plain": [
              "                                            book_url  \\\n",
              "0              /book/show/2657.To_Kill_a_Mockingbird   \n",
              "1                /book/show/1885.Pride_and_Prejudice   \n",
              "2         /book/show/48855.The_Diary_of_a_Young_Girl   \n",
              "3  /book/show/3.Harry_Potter_and_the_Sorcerer_s_S...   \n",
              "4                      /book/show/170448.Animal_Farm   \n",
              "\n",
              "                                          book_title  \\\n",
              "0                          \\nTo Kill a Mockingbird\\n   \n",
              "1                            \\nPride and Prejudice\\n   \n",
              "2                      \\nThe Diary of a Young Girl\\n   \n",
              "3  \\nHarry Potter and the Sorcerer's Stone (Harry...   \n",
              "4                                    \\nAnimal Farm\\n   \n",
              "\n",
              "                                          author_url    author_name  \\\n",
              "0  https://www.goodreads.com/author/show/1825.Har...     Harper Lee   \n",
              "1  https://www.goodreads.com/author/show/1265.Jan...    Jane Austen   \n",
              "2  https://www.goodreads.com/author/show/3720.Ann...     Anne Frank   \n",
              "3  https://www.goodreads.com/author/show/1077326....   J.K. Rowling   \n",
              "4  https://www.goodreads.com/author/show/3706.Geo...  George Orwell   \n",
              "\n",
              "  avg_rating num_ratings      score score_users  \n",
              "0       4.26   6,089,980  2,428,585      24,617  \n",
              "1       4.29   4,246,751  1,511,539      15,479  \n",
              "2       4.19   3,712,297  1,441,732      14,764  \n",
              "3       4.47   9,994,242  1,132,411      11,572  \n",
              "4       3.99   3,859,504  1,086,840      11,258  "
            ]
          },
          "execution_count": 22,
          "metadata": {},
          "output_type": "execute_result"
        }
      ],
      "source": [
        "df = pd.DataFrame(rows)\n",
        "df.head()"
      ]
    },
    {
      "cell_type": "code",
      "execution_count": null,
      "metadata": {
        "id": "oT6YLFxtQf2r"
      },
      "outputs": [],
      "source": [
        "path = \"/content/gdrive/My Drive/data\"\n",
        "df.to_csv(join(path,\"books.csv\"), index=False)"
      ]
    }
  ],
  "metadata": {
    "colab": {
      "provenance": [],
      "toc_visible": true
    },
    "kernelspec": {
      "display_name": "Python 3",
      "name": "python3"
    }
  },
  "nbformat": 4,
  "nbformat_minor": 0
}
